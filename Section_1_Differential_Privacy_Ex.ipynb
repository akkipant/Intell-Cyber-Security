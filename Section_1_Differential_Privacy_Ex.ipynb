{
  "nbformat": 4,
  "nbformat_minor": 0,
  "metadata": {
    "colab": {
      "name": "Section 1-Differential Privacy-Ex.ipynb",
      "provenance": [],
      "collapsed_sections": [
        "5gA9W-b1-fv3",
        "D2fDSieV-fv4",
        "W8HYVWUV-fwJ",
        "RJCv5f7W-fwQ",
        "Zu_8QgEQ-fwd",
        "YGLr_3XC-fwy"
      ],
      "include_colab_link": true
    },
    "language_info": {
      "codemirror_mode": {
        "name": "ipython",
        "version": 3
      },
      "file_extension": ".py",
      "mimetype": "text/x-python",
      "name": "python",
      "nbconvert_exporter": "python",
      "pygments_lexer": "ipython3",
      "version": "3.6.1"
    },
    "kernelspec": {
      "name": "python3",
      "display_name": "Python 3"
    },
    "accelerator": "GPU"
  },
  "cells": [
    {
      "cell_type": "markdown",
      "metadata": {
        "id": "view-in-github",
        "colab_type": "text"
      },
      "source": [
        "<a href=\"https://colab.research.google.com/github/akkipant/Intell-Cyber-Security/blob/master/Section_1_Differential_Privacy_Ex.ipynb\" target=\"_parent\"><img src=\"https://colab.research.google.com/assets/colab-badge.svg\" alt=\"Open In Colab\"/></a>"
      ]
    },
    {
      "cell_type": "markdown",
      "metadata": {
        "id": "mOQosrw--fuK",
        "colab_type": "text"
      },
      "source": [
        "## Lesson: Toy Differential Privacy - Simple Database Queries"
      ]
    },
    {
      "cell_type": "markdown",
      "metadata": {
        "id": "YWiQwpyI-fuL",
        "colab_type": "text"
      },
      "source": [
        "In this section we're going to play around with Differential Privacy in the context of a database query. The database is going to be a VERY simple database with only one boolean column. Each row corresponds to a person. Each value corresponds to whether or not that person has a certain private attribute (such as whether they have a certain disease, or whether they are above/below a certain age). We are then going to learn how to know whether a database query over such a small database is differentially private or not - and more importantly - what techniques are at our disposal to ensure various levels of privacy\n",
        "\n",
        "\n",
        "### First We Create a Simple Database\n",
        "\n",
        "Step one is to create our database - we're going to do this by initializing a random list of 1s and 0s (which are the entries in our database). Note - the number of entries directly corresponds to the number of people in our database."
      ]
    },
    {
      "cell_type": "code",
      "metadata": {
        "id": "AuxW5jmK-fuL",
        "colab_type": "code",
        "outputId": "85b4cf31-7718-4d58-e560-d9e4e77c5c35",
        "colab": {
          "base_uri": "https://localhost:8080/",
          "height": 34
        }
      },
      "source": [
        "import torch\n",
        "\n",
        "# the number of entries in our database\n",
        "num_entries = 5000\n",
        "\n",
        "db = torch.rand(num_entries) > 0.5\n",
        "db.shape"
      ],
      "execution_count": 1,
      "outputs": [
        {
          "output_type": "execute_result",
          "data": {
            "text/plain": [
              "torch.Size([5000])"
            ]
          },
          "metadata": {
            "tags": []
          },
          "execution_count": 1
        }
      ]
    },
    {
      "cell_type": "markdown",
      "metadata": {
        "id": "44-18awA-fuQ",
        "colab_type": "text"
      },
      "source": [
        "## Project: Generate Parallel Databases\n",
        "\n",
        "Key to the definition of differenital privacy is the ability to ask the question \"When querying a database, if I removed someone from the database, would the output of the query be any different?\". Thus, in order to check this, we must construct what we term \"parallel databases\" which are simply databases with one entry removed. \n",
        "\n",
        "In this first project, create a list of every parallel database to the one currently contained in the \"db\" variable. Then, create a function which both:\n",
        "\n",
        "- creates the initial database (db)\n",
        "- creates all parallel databases"
      ]
    },
    {
      "cell_type": "code",
      "metadata": {
        "id": "MCK23Nvr-fuQ",
        "colab_type": "code",
        "outputId": "44f6f16e-41f0-41fa-bba7-af0dfd1f0dbd",
        "colab": {
          "base_uri": "https://localhost:8080/",
          "height": 34
        }
      },
      "source": [
        "db = torch.rand(num_entries) > 0.5\n",
        "db[:7]"
      ],
      "execution_count": 2,
      "outputs": [
        {
          "output_type": "execute_result",
          "data": {
            "text/plain": [
              "tensor([1, 1, 0, 1, 1, 0, 0], dtype=torch.uint8)"
            ]
          },
          "metadata": {
            "tags": []
          },
          "execution_count": 2
        }
      ]
    },
    {
      "cell_type": "code",
      "metadata": {
        "id": "FOAiaa2l-fuT",
        "colab_type": "code",
        "colab": {}
      },
      "source": [
        "def get_parallel_db(db, remove_index):\n",
        "\n",
        "    return torch.cat((db[0:remove_index], db[remove_index+1:]))"
      ],
      "execution_count": 0,
      "outputs": []
    },
    {
      "cell_type": "code",
      "metadata": {
        "id": "TCiV7B7x-fuV",
        "colab_type": "code",
        "outputId": "cc050678-6328-41d2-a511-ed58eb459a4b",
        "colab": {
          "base_uri": "https://localhost:8080/",
          "height": 51
        }
      },
      "source": [
        "x = get_parallel_db(db, 1)\n",
        "print(f'size of x: {x.shape}')\n",
        "print(x[:5]) # notice the change in from the original db"
      ],
      "execution_count": 4,
      "outputs": [
        {
          "output_type": "stream",
          "text": [
            "size of x: torch.Size([4999])\n",
            "tensor([1, 0, 1, 1, 0], dtype=torch.uint8)\n"
          ],
          "name": "stdout"
        }
      ]
    },
    {
      "cell_type": "code",
      "metadata": {
        "id": "sct49nI7-fuX",
        "colab_type": "code",
        "colab": {}
      },
      "source": [
        "def get_parallel_dbs(db):\n",
        "\n",
        "    parallel_dbs = list()\n",
        "\n",
        "    for i in range(len(db)):\n",
        "        pdb = get_parallel_db(db, i)\n",
        "        parallel_dbs.append(pdb)\n",
        "    \n",
        "    return parallel_dbs\n",
        "  \n",
        "  \n"
      ],
      "execution_count": 0,
      "outputs": []
    },
    {
      "cell_type": "code",
      "metadata": {
        "id": "mlkC5OnLzp7q",
        "colab_type": "code",
        "outputId": "80659cfb-fa57-434a-c175-1327a254c633",
        "colab": {
          "base_uri": "https://localhost:8080/",
          "height": 51
        }
      },
      "source": [
        "paralled_dbs = get_parallel_dbs(db)\n",
        "\n",
        "print('number of parallel dbs: ', len(paralled_dbs))\n",
        "print('size of each parallel db: ', len(paralled_dbs[0]))\n",
        "\n",
        "# shape is list of lists [[], [], [], ...]"
      ],
      "execution_count": 6,
      "outputs": [
        {
          "output_type": "stream",
          "text": [
            "number of parallel dbs:  5000\n",
            "size of each parallel db:  4999\n"
          ],
          "name": "stdout"
        }
      ]
    },
    {
      "cell_type": "code",
      "metadata": {
        "id": "yT_aXXN4-fuZ",
        "colab_type": "code",
        "colab": {}
      },
      "source": [
        "pdbs = get_parallel_dbs(db)"
      ],
      "execution_count": 0,
      "outputs": []
    },
    {
      "cell_type": "code",
      "metadata": {
        "id": "gRp5qzx6-fub",
        "colab_type": "code",
        "colab": {}
      },
      "source": [
        "def create_db_and_parallels(num_entries):\n",
        "    \n",
        "    db = torch.rand(num_entries) > 0.5\n",
        "    pdbs = get_parallel_dbs(db)\n",
        "    \n",
        "    return db, pdbs"
      ],
      "execution_count": 0,
      "outputs": []
    },
    {
      "cell_type": "code",
      "metadata": {
        "id": "My0AU2Qz-fue",
        "colab_type": "code",
        "colab": {}
      },
      "source": [
        "db, pdbs = create_db_and_parallels(20)"
      ],
      "execution_count": 0,
      "outputs": []
    },
    {
      "cell_type": "markdown",
      "metadata": {
        "id": "NZzdYReJ-fug",
        "colab_type": "text"
      },
      "source": [
        "# Lesson: Towards Evaluating The Differential Privacy of a Function\n",
        "\n",
        "Intuitively, we want to be able to query our database and evaluate whether or not the result of the query is leaking \"private\" information. As mentioned previously, this is about evaluating whether the output of a query changes when we remove someone from the database. Specifically, we want to evaluate the *maximum* amount the query changes when someone is removed (maximum over all possible people who could be removed). So, in order to evaluate how much privacy is leaked, we're going to iterate over each person in the database and measure the difference in the output of the query relative to when we query the entire database. \n",
        "\n",
        "Just for the sake of argument, let's make our first \"database query\" a simple sum. Aka, we're going to count the number of 1s in the database."
      ]
    },
    {
      "cell_type": "code",
      "metadata": {
        "id": "T0EzDdLd-fuh",
        "colab_type": "code",
        "colab": {}
      },
      "source": [
        "db, pdbs = create_db_and_parallels(5000)"
      ],
      "execution_count": 0,
      "outputs": []
    },
    {
      "cell_type": "code",
      "metadata": {
        "id": "YtOUQWuh-fui",
        "colab_type": "code",
        "colab": {}
      },
      "source": [
        "# a sample sum query\n",
        "def sum_query(db):\n",
        "    return db.sum()"
      ],
      "execution_count": 0,
      "outputs": []
    },
    {
      "cell_type": "code",
      "metadata": {
        "id": "YBYH-LiF-fuk",
        "colab_type": "code",
        "outputId": "3e0c8729-d0d9-4103-db7b-bf705aa41566",
        "colab": {
          "base_uri": "https://localhost:8080/",
          "height": 34
        }
      },
      "source": [
        "full_db_result = sum_query(db)\n",
        "full_db_result"
      ],
      "execution_count": 12,
      "outputs": [
        {
          "output_type": "execute_result",
          "data": {
            "text/plain": [
              "tensor(2469)"
            ]
          },
          "metadata": {
            "tags": []
          },
          "execution_count": 12
        }
      ]
    },
    {
      "cell_type": "code",
      "metadata": {
        "id": "T4ANi-3V-fum",
        "colab_type": "code",
        "outputId": "a2812d45-1eaf-490a-e6d8-c4937569a41c",
        "colab": {
          "base_uri": "https://localhost:8080/",
          "height": 34
        }
      },
      "source": [
        "# TO DO:\n",
        "# find the maximum difference between query on the db and any of the parrallel dbs\n",
        "# call that difference \"sensitivity\"\n",
        "# print sensitivitiy\n",
        "sensitivity = sum_query(db) - sum_query(pdbs[10])\n",
        "sensitivity"
      ],
      "execution_count": 13,
      "outputs": [
        {
          "output_type": "execute_result",
          "data": {
            "text/plain": [
              "tensor(0)"
            ]
          },
          "metadata": {
            "tags": []
          },
          "execution_count": 13
        }
      ]
    },
    {
      "cell_type": "markdown",
      "metadata": {
        "id": "-pKn9jvx-fuq",
        "colab_type": "text"
      },
      "source": [
        "# Project - Evaluating the Privacy of a Function\n",
        "\n",
        "In the last section, we measured the difference between each parallel db's query result and the query result for the entire database and then calculated the max value (which was 1). This value is called \"sensitivity\", and it corresponds to the function we chose for the query. Namely, the \"sum\" query will always have a sensitivity of exactly 1. However, we can also calculate sensitivity for other functions as well.\n",
        "\n",
        "Let's try to calculate sensitivity for the \"mean\" function."
      ]
    },
    {
      "cell_type": "code",
      "metadata": {
        "id": "ahCyrBmCOzJ6",
        "colab_type": "code",
        "colab": {}
      },
      "source": [
        "# To Do: \n",
        "# define a function to caluculate the mean of a vector (a pdb). There is a predefined function in torch that does that\n",
        "def mean_query(dbs):\n",
        "  return torch.sum(dbs.float())/len(dbs.float())"
      ],
      "execution_count": 0,
      "outputs": []
    },
    {
      "cell_type": "code",
      "metadata": {
        "id": "kGAQN0jAPJ0Y",
        "colab_type": "code",
        "outputId": "78aba6f1-eb66-49ce-8303-c7041d433a6e",
        "colab": {
          "base_uri": "https://localhost:8080/",
          "height": 34
        }
      },
      "source": [
        "# define a fucntion called sensitivity that accepts a query and a number of entries, \n",
        "# which then creates a db with number of entires and pdbs and caculates the sensitivity of the query\n",
        "def sensitivity(query, n_entries=1000):\n",
        "  maximum = 0\n",
        "  db, pdbs = create_db_and_parallels(n_entries)\n",
        "  for i in range(1,len(pdbs)):\n",
        "    if query(db)-query(pdbs[i]) > maximum:\n",
        "      maximum = query(db)-query(pdbs[i])\n",
        "  return float(maximum) \n",
        "\n",
        "sensitivity(sum_query)"
      ],
      "execution_count": 15,
      "outputs": [
        {
          "output_type": "execute_result",
          "data": {
            "text/plain": [
              "1.0"
            ]
          },
          "metadata": {
            "tags": []
          },
          "execution_count": 15
        }
      ]
    },
    {
      "cell_type": "markdown",
      "metadata": {
        "id": "MKQZP0cY-fu2",
        "colab_type": "text"
      },
      "source": [
        "Wow! That sensitivity is WAY lower. Note the intuition here. \"Sensitivity\" is measuring how sensitive the output of the query is to a person being removed from the database. For a simple sum, this is always 1, but for the mean, removing a person is going to change the result of the query by rougly 1 divided by the size of the database (which is much smaller). Thus, \"mean\" is a VASTLY less \"sensitive\" function (query) than SUM."
      ]
    },
    {
      "cell_type": "markdown",
      "metadata": {
        "id": "qoqCFN1J-fu3",
        "colab_type": "text"
      },
      "source": [
        "# Project: Calculate L1 Sensitivity For Threshold\n",
        "\n",
        "Calculate the sensitivty for the \"threshold\" function. \n",
        "\n",
        "- First compute the sum over the database and return whether that sum is greater than a certain threshold.\n",
        "- Then, create databases of size 10 and threshold of 5 and calculate the sensitivity of the function. \n",
        "- Finally, re-initialize the database 10 times and calculate the sensitivity each time."
      ]
    },
    {
      "cell_type": "code",
      "metadata": {
        "id": "O1RMaETd-fu4",
        "colab_type": "code",
        "colab": {}
      },
      "source": [
        "# TO DO\n",
        "def threshold_query(db, threshold=5):\n",
        "  return (sum(db) > threshold).float()"
      ],
      "execution_count": 0,
      "outputs": []
    },
    {
      "cell_type": "code",
      "metadata": {
        "id": "DKuGlm9M-fu6",
        "colab_type": "code",
        "outputId": "ccac7dca-5596-4c55-d346-45f8c5e28c92",
        "colab": {
          "base_uri": "https://localhost:8080/",
          "height": 34
        }
      },
      "source": [
        "# TO DO\n",
        "# find the sensitivity of a db of size 10 and threshold 5\n",
        "sensitivity(threshold_query, 10)\n"
      ],
      "execution_count": 17,
      "outputs": [
        {
          "output_type": "execute_result",
          "data": {
            "text/plain": [
              "0.0"
            ]
          },
          "metadata": {
            "tags": []
          },
          "execution_count": 17
        }
      ]
    },
    {
      "cell_type": "code",
      "metadata": {
        "id": "BisZ9-2dRQcT",
        "colab_type": "code",
        "outputId": "4748c936-56fc-4bfb-e528-27ce8043b9b3",
        "colab": {
          "base_uri": "https://localhost:8080/",
          "height": 170
        }
      },
      "source": [
        "# TO DO\n",
        "# re-initialize the database 10 times and calculate the sensitivity each time.\n",
        "for i in range(1,10):\n",
        "  print(sensitivity(threshold_query, 10))"
      ],
      "execution_count": 18,
      "outputs": [
        {
          "output_type": "stream",
          "text": [
            "0.0\n",
            "0.0\n",
            "0.0\n",
            "1.0\n",
            "0.0\n",
            "0.0\n",
            "0.0\n",
            "0.0\n",
            "0.0\n"
          ],
          "name": "stdout"
        }
      ]
    },
    {
      "cell_type": "markdown",
      "metadata": {
        "id": "QR1B2B8c-fu9",
        "colab_type": "text"
      },
      "source": [
        "# Lesson: A Basic Differencing Attack\n",
        "\n",
        "Sadly none of the functions we've looked at so far are differentially private (despite them having varying levels of sensitivity). The most basic type of attack can be done as follows.\n",
        "\n",
        "Let's say we wanted to figure out a specific person's value in the database. All we would have to do is query for the sum of the entire database and then the sum of the entire database without that person!\n",
        "\n",
        "# Project: Perform a Differencing Attack on Row 10\n",
        "\n",
        "In this project, construct a database and then demonstrate how you can use two different sum queries to explose the value of the person represented by row 10 in the database (note, you'll need to use a database with at least 10 rows)"
      ]
    },
    {
      "cell_type": "code",
      "metadata": {
        "id": "yxpRLbBo-fu9",
        "colab_type": "code",
        "outputId": "f2d9aaf3-55b6-47ef-cf05-0d5f1962650d",
        "colab": {
          "base_uri": "https://localhost:8080/",
          "height": 34
        }
      },
      "source": [
        "# TO DO \n",
        "# create a db with 100 entries (binaries for simplicity)\n",
        "# check the value at row 10 (in real senario you do not know this in advance) \n",
        "# create a differencing attack using the sum query to learn the value at row 10\n",
        "\n",
        "db, _= create_db_and_parallels(20)\n",
        "pdb= get_parallel_db(db,remove_index=10)\n",
        "\n",
        "\n",
        "sum(db)-sum(pdb)\n"
      ],
      "execution_count": 19,
      "outputs": [
        {
          "output_type": "execute_result",
          "data": {
            "text/plain": [
              "tensor(0, dtype=torch.uint8)"
            ]
          },
          "metadata": {
            "tags": []
          },
          "execution_count": 19
        }
      ]
    },
    {
      "cell_type": "code",
      "metadata": {
        "id": "nS3LIa0QWVYd",
        "colab_type": "code",
        "outputId": "200dc306-6022-4bb1-8585-376d9fbddaf7",
        "colab": {
          "base_uri": "https://localhost:8080/",
          "height": 34
        }
      },
      "source": [
        "# create a differencing attack on the mean query to learn the value at row 10\n",
        "sum(db).float()/len(db)-(sum(pdb).float()/len(pdb))"
      ],
      "execution_count": 20,
      "outputs": [
        {
          "output_type": "execute_result",
          "data": {
            "text/plain": [
              "tensor(-0.0211)"
            ]
          },
          "metadata": {
            "tags": []
          },
          "execution_count": 20
        }
      ]
    },
    {
      "cell_type": "code",
      "metadata": {
        "id": "mBXZwivmWWGU",
        "colab_type": "code",
        "outputId": "518ebc48-99d0-4858-eb8c-e8166cf68d0f",
        "colab": {
          "base_uri": "https://localhost:8080/",
          "height": 34
        }
      },
      "source": [
        "# create a differencing attack on the threshold query to learn the value at row 10\n",
        "(sum(db).float() > 49) - (sum(pdb).float()  > 49)"
      ],
      "execution_count": 21,
      "outputs": [
        {
          "output_type": "execute_result",
          "data": {
            "text/plain": [
              "tensor(0, dtype=torch.uint8)"
            ]
          },
          "metadata": {
            "tags": []
          },
          "execution_count": 21
        }
      ]
    },
    {
      "cell_type": "markdown",
      "metadata": {
        "id": "Ei-mbrRl-fvN",
        "colab_type": "text"
      },
      "source": [
        "# Project: Local Differential Privacy\n",
        "\n",
        "As you can see, the basic sum query is not differentially private at all! In truth, differential privacy always requires a form of randomness added to the query. Let me show you what I mean.\n",
        "\n",
        "### Randomized Response (Local Differential Privacy)\n",
        "\n",
        "Let's say I have a group of people I wish to survey about a very taboo behavior which I think they will lie about (say, I want to know if they have ever committed a certain kind of crime). I'm not a policeman, I'm just trying to collect statistics to understand the higher level trend in society. So, how do we do this? One technique is to add randomness to each person's response by giving each person the following instructions (assuming I'm asking a simple yes/no question):\n",
        "\n",
        "- Flip a coin 2 times.\n",
        "- If the first coin flip is heads, answer honestly\n",
        "- If the first coin flip is tails, answer according to the second coin flip (heads for yes, tails for no)!\n",
        "\n",
        "Thus, each person is now protected with \"plausible deniability\". If they answer \"Yes\" to the question \"have you committed X crime?\", then it might becasue they actually did, or it might be becasue they are answering according to a random coin flip. Each person has a high degree of protection. Furthermore, we can recover the underlying statistics with some accuracy, as the \"true statistics\" are simply averaged with a 50% probability. Thus, if we collect a bunch of samples and it turns out that 60% of people answer yes, then we know that the TRUE distribution is actually centered around 70%, because 70% averaged wtih 50% (a coin flip) is 60% which is the result we obtained. \n",
        "\n",
        "However, it should be noted that, especially when we only have a few samples, the this comes at the cost of accuracy. This tradeoff exists across all of Differential Privacy. The greater the privacy protection (plausible deniability) the less accurate the results. \n",
        "\n",
        "Let's implement this local DP for our database before!"
      ]
    },
    {
      "cell_type": "code",
      "metadata": {
        "id": "L34C1T2v-fvO",
        "colab_type": "code",
        "outputId": "0c0d9978-e6f1-4e8a-f509-72bb32226c4d",
        "colab": {
          "base_uri": "https://localhost:8080/",
          "height": 34
        }
      },
      "source": [
        "# actual values from people\n",
        "db = torch.rand(10) > 0.2\n",
        "db"
      ],
      "execution_count": 22,
      "outputs": [
        {
          "output_type": "execute_result",
          "data": {
            "text/plain": [
              "tensor([0, 1, 1, 0, 1, 1, 1, 0, 1, 1], dtype=torch.uint8)"
            ]
          },
          "metadata": {
            "tags": []
          },
          "execution_count": 22
        }
      ]
    },
    {
      "cell_type": "code",
      "metadata": {
        "id": "XidXHUG7-fvw",
        "colab_type": "code",
        "colab": {}
      },
      "source": [
        "def randomized_response(db):\n",
        "  cflip1 = torch.rand(len(db)) > 0.5\n",
        "  cflip2 = torch.rand(len(db)) > 0.5\n",
        "  aug_db = db * cflip1 + (1 - cflip1) * cflip2\n",
        "  return mean_query(db), (mean_query(aug_db) * 2 - 0.5)\n"
      ],
      "execution_count": 0,
      "outputs": []
    },
    {
      "cell_type": "code",
      "metadata": {
        "id": "K9ulB04x2MDK",
        "colab_type": "code",
        "outputId": "12dd9e82-d3fc-49cc-d350-017a36c2e746",
        "colab": {
          "base_uri": "https://localhost:8080/",
          "height": 34
        }
      },
      "source": [
        "print(randomized_response(db))"
      ],
      "execution_count": 24,
      "outputs": [
        {
          "output_type": "stream",
          "text": [
            "(tensor(0.7000), tensor(0.5000))\n"
          ],
          "name": "stdout"
        }
      ]
    },
    {
      "cell_type": "code",
      "metadata": {
        "id": "dYC4kPrR2Uog",
        "colab_type": "code",
        "outputId": "f622aa9e-0296-4462-ab06-9a58b69b08c5",
        "colab": {
          "base_uri": "https://localhost:8080/",
          "height": 68
        }
      },
      "source": [
        "db100 = torch.rand(100) > 0.2\n",
        "db1000 = torch.rand(1000) > 0.2\n",
        "db10000 = torch.rand(10000) > 0.2\n",
        "print(randomized_response(db100))\n",
        "print(randomized_response(db1000))\n",
        "print(randomized_response(db10000))"
      ],
      "execution_count": 25,
      "outputs": [
        {
          "output_type": "stream",
          "text": [
            "(tensor(0.8400), tensor(0.8600))\n",
            "(tensor(0.7920), tensor(0.7740))\n",
            "(tensor(0.7972), tensor(0.7966))\n"
          ],
          "name": "stdout"
        }
      ]
    },
    {
      "cell_type": "markdown",
      "metadata": {
        "id": "QwCz9IIe-fvd",
        "colab_type": "text"
      },
      "source": [
        "# Project: Varying Amounts of Noise\n",
        "\n",
        "In this project, I want you to augment the randomized response query (the one we just wrote) to allow for varying amounts of randomness to be added. Specifically, I want you to bias the coin flip to be higher or lower and then run the same experiment. \n",
        "\n",
        "Note - this one is a bit tricker than you might expect. You need to both adjust the likelihood of the first coin flip AND the de-skewing at the end (where we create the \"augmented_result\" variable)."
      ]
    },
    {
      "cell_type": "code",
      "metadata": {
        "id": "9pu-8TEE3aYr",
        "colab_type": "code",
        "colab": {}
      },
      "source": [
        "def randomized_response(db, noise):\n",
        "  cflip1 = torch.rand(len(db)) > noise\n",
        "  cflip2 = torch.rand(len(db)) > noise\n",
        "  aug_db = db * cflip1 + (1 - cflip1) * cflip2\n",
        "  return mean_query(db), (mean_query(aug_db) - (0.5 * (1 - noise)))/noise"
      ],
      "execution_count": 0,
      "outputs": []
    },
    {
      "cell_type": "code",
      "metadata": {
        "id": "pDKvdgPN7gz_",
        "colab_type": "code",
        "outputId": "7a985b4e-b9b1-45c5-f490-8f1d78cf2faa",
        "colab": {
          "base_uri": "https://localhost:8080/",
          "height": 221
        }
      },
      "source": [
        "db100 = torch.rand(100) > 0.2\n",
        "db1000 = torch.rand(1000) > 0.2\n",
        "db10000 = torch.rand(10000) > 0.2\n",
        "\n",
        "print(\"Database Size 100\")\n",
        "print(randomized_response(db100, 0.2))\n",
        "print(randomized_response(db100, 0.5))\n",
        "print(randomized_response(db100, 0.75))\n",
        "\n",
        "print(\"Database Size 1000\")\n",
        "print(randomized_response(db1000, 0.2))\n",
        "print(randomized_response(db1000, 0.5))\n",
        "print(randomized_response(db1000, 0.75))\n",
        "\n",
        "print(\"Database Size 10000\")\n",
        "print(randomized_response(db10000, 0.2))\n",
        "print(randomized_response(db10000, 0.5))\n",
        "print(randomized_response(db10000, 0.75))"
      ],
      "execution_count": 27,
      "outputs": [
        {
          "output_type": "stream",
          "text": [
            "Database Size 100\n",
            "(tensor(0.8000), tensor(2.1000))\n",
            "(tensor(0.8000), tensor(0.7000))\n",
            "(tensor(0.8000), tensor(0.3400))\n",
            "Database Size 1000\n",
            "(tensor(0.7890), tensor(1.9000))\n",
            "(tensor(0.7890), tensor(0.7880))\n",
            "(tensor(0.7890), tensor(0.3253))\n",
            "Database Size 10000\n",
            "(tensor(0.7939), tensor(1.9645))\n",
            "(tensor(0.7939), tensor(0.7978))\n",
            "(tensor(0.7939), tensor(0.3337))\n"
          ],
          "name": "stdout"
        }
      ]
    },
    {
      "cell_type": "markdown",
      "metadata": {
        "id": "VIQVOpsA-fvy",
        "colab_type": "text"
      },
      "source": [
        "# Lesson: The Formal Definition of Differential Privacy\n",
        "\n",
        "The previous method of adding noise was called \"Local Differentail Privacy\" because we added noise to each datapoint individually. This is necessary for some situations wherein the data is SO sensitive that individuals do not trust noise to be added later. However, it comes at a very high cost in terms of accuracy. \n",
        "\n",
        "However, alternatively we can add noise AFTER data has been aggregated by a function. This kind of noise can allow for similar levels of protection with a lower affect on accuracy. However, participants must be able to trust that no-one looked at their datapoints _before_ the aggregation took place. In some situations this works out well, in others (such as an individual hand-surveying a group of people), this is less realistic.\n",
        "\n",
        "Nevertheless, global differential privacy is incredibly important because it allows us to perform differential privacy on smaller groups of individuals with lower amounts of noise. Let's revisit our sum functions."
      ]
    },
    {
      "cell_type": "markdown",
      "metadata": {
        "id": "iNtJ00Nn-fv2",
        "colab_type": "text"
      },
      "source": [
        "So the idea here is that we want to add noise to the output of our function. We actually have two different kinds of noise we can add - Laplacian Noise or Gaussian Noise. However, before we do so at this point we need to dive into the formal definition of Differential Privacy.\n",
        "\n",
        "![alt text](dp_formula.png \"Title\")"
      ]
    },
    {
      "cell_type": "markdown",
      "metadata": {
        "id": "x6GoXQjj-fv2",
        "colab_type": "text"
      },
      "source": [
        "_Image From: \"The Algorithmic Foundations of Differential Privacy\" - Cynthia Dwork and Aaron Roth - https://www.cis.upenn.edu/~aaroth/Papers/privacybook.pdf_"
      ]
    },
    {
      "cell_type": "markdown",
      "metadata": {
        "id": "5gA9W-b1-fv3",
        "colab_type": "text"
      },
      "source": [
        "This definition does not _create_ differential privacy, instead it is a measure of how much privacy is afforded by a query M. Specifically, it's a comparison between running the query M on a database (x) and a parallel database (y). As you remember, parallel databases are defined to be the same as a full database (x) with one entry/person removed.\n",
        "\n",
        "Thus, this definition says that FOR ALL parallel databases, the maximum distance between a query on database (x) and the same query on database (y) will be e^epsilon, but that occasionally this constraint won't hold with probability delta. Thus, this theorem is called \"epsilon delta\" differential privacy.\n",
        "\n",
        "# Epsilon\n",
        "\n",
        "Let's unpack the intuition of this for a moment. \n",
        "\n",
        "Epsilon Zero: If a query satisfied this inequality where epsilon was set to 0, then that would mean that the query for all parallel databases outputed the exact same value as the full database. As you may remember, when we calculated the \"threshold\" function, often the Sensitivity was 0. In that case, the epsilon also happened to be zero.\n",
        "\n",
        "Epsilon One: If a query satisfied this inequality with epsilon 1, then the maximum distance between all queries would be 1 - or more precisely - the maximum distance between the two random distributions M(x) and M(y) is 1 (because all these queries have some amount of randomness in them, just like we observed in the last section).\n",
        "\n",
        "# Delta\n",
        "\n",
        "Delta is basically the probability that epsilon breaks. Namely, sometimes the epsilon is different for some queries than it is for others. For example, you may remember when we were calculating the sensitivity of threshold, most of the time sensitivity was 0 but sometimes it was 1. Thus, we could calculate this as \"epsilon zero but non-zero delta\" which would say that epsilon is perfect except for some probability of the time when it's arbitrarily higher. Note that this expression doesn't represent the full tradeoff between epsilon and delta."
      ]
    },
    {
      "cell_type": "markdown",
      "metadata": {
        "id": "D2fDSieV-fv4",
        "colab_type": "text"
      },
      "source": [
        "# Lesson: How To Add Noise for Global Differential Privacy\n",
        "\n",
        "In this lesson, we're going to learn about how to take a query and add varying amounts of noise so that it satisfies a certain degree of differential privacy. In particular, we're going to leave behind the Local Differential privacy previously discussed and instead opt to focus on Global differential privacy. \n",
        "\n",
        "So, to sum up, this lesson is about adding noise to the output of our query so that it satisfies a certain epsilon-delta differential privacy threshold.\n",
        "\n",
        "There are two kinds of noise we can add - Gaussian Noise or Laplacian Noise. Generally speaking Laplacian is better, but both are still valid. Now to the hard question...\n",
        "\n",
        "### How much noise should we add?\n",
        "\n",
        "The amount of noise necessary to add to the output of a query is a function of four things:\n",
        "\n",
        "- the type of noise (Gaussian/Laplacian)\n",
        "- the sensitivity of the query/function\n",
        "- the desired epsilon (ε)\n",
        "- the desired delta (δ)\n",
        "\n",
        "Thus, for each type of noise we're adding, we have different way of calculating how much to add as a function of sensitivity, epsilon, and delta. We're going to focus on Laplacian noise. Laplacian noise is increased/decreased according to a \"scale\" parameter b. We choose \"b\" based on the following formula.\n",
        "\n",
        "b = sensitivity(query) / epsilon\n",
        "\n",
        "In other words, if we set b to be this value, then we know that we will have a privacy leakage of <= epsilon. Furthermore, the nice thing about Laplace is that it guarantees this with delta == 0. There are some tunings where we can have very low epsilon where delta is non-zero, but we'll ignore them for now.\n",
        "\n",
        "### Querying Repeatedly\n",
        "\n",
        "- if we query the database multiple times - we can simply add the epsilons (Even if we change the amount of noise and their epsilons are not the same)."
      ]
    },
    {
      "cell_type": "markdown",
      "metadata": {
        "id": "ZNE-DXBx-fv6",
        "colab_type": "text"
      },
      "source": [
        "# Project: Create a Differentially Private Query\n",
        "\n",
        "In this project, I want you to take what you learned in the previous lesson and create a query function which sums over the database and adds just the right amount of noise such that it satisfies an epsilon constraint. Write a query for both \"sum\" and for \"mean\". Ensure that you use the correct sensitivity measures for both."
      ]
    },
    {
      "cell_type": "code",
      "metadata": {
        "colab_type": "code",
        "id": "eg24spjvpJjP",
        "colab": {}
      },
      "source": [
        "import numpy as np\n",
        "import torch"
      ],
      "execution_count": 0,
      "outputs": []
    },
    {
      "cell_type": "code",
      "metadata": {
        "id": "nEgDImdX-fwC",
        "colab_type": "code",
        "colab": {}
      },
      "source": [
        "# create a random db\n",
        "db, pdb = create_db_and_parallels(100)"
      ],
      "execution_count": 0,
      "outputs": []
    },
    {
      "cell_type": "code",
      "metadata": {
        "id": "X62rXd4PPMHs",
        "colab_type": "code",
        "colab": {}
      },
      "source": [
        "# create an augmented mechanism that adds Global noise to a given query using laplace type\n",
        "def noise_mechanism(db, query, epsilon=0.5):\n",
        "  # laplasian noise depends on a beta variable as follows\n",
        "  b = sensitivity(query, len(db)) / epsilon\n",
        "\n",
        "  # noise amout of noise to be added\n",
        "  noise = torch.tensor(np.random.laplace(0, scale=b, size=1))\n",
        "\n",
        "  noisy_result = query(db.float()) + noise.float()\n",
        "\n",
        "  return noisy_result"
      ],
      "execution_count": 0,
      "outputs": []
    },
    {
      "cell_type": "code",
      "metadata": {
        "id": "7dWONYt4QDjo",
        "colab_type": "code",
        "outputId": "3dff06df-d41d-4322-fed7-2be249243123",
        "colab": {
          "base_uri": "https://localhost:8080/",
          "height": 34
        }
      },
      "source": [
        "# true result which anlayst does not have access to:\n",
        "print(f'True query result: {sum_query(db).item()}')"
      ],
      "execution_count": 31,
      "outputs": [
        {
          "output_type": "stream",
          "text": [
            "True query result: 50\n"
          ],
          "name": "stdout"
        }
      ]
    },
    {
      "cell_type": "code",
      "metadata": {
        "id": "P_ixN5uhQTn-",
        "colab_type": "code",
        "outputId": "c75cbe90-6732-400f-de83-aea2a514e77c",
        "colab": {
          "base_uri": "https://localhost:8080/",
          "height": 34
        }
      },
      "source": [
        "# the result that databse curator will return to the analyst:\n",
        "result = noise_mechanism(db, sum_query)\n",
        "print(f'Augmented, or noisy, result: {result.item()}')"
      ],
      "execution_count": 32,
      "outputs": [
        {
          "output_type": "stream",
          "text": [
            "Augmented, or noisy, result: 55.65239334106445\n"
          ],
          "name": "stdout"
        }
      ]
    },
    {
      "cell_type": "code",
      "metadata": {
        "colab_type": "code",
        "outputId": "676e5b78-01c0-4508-dc79-5dc271676966",
        "id": "K-fHUodLvFKD",
        "colab": {
          "base_uri": "https://localhost:8080/",
          "height": 34
        }
      },
      "source": [
        "# TODO\n",
        "# Repeat the previous experiment for the Mean query\n",
        "print(f'True query result: {mean_query(db).item()}')"
      ],
      "execution_count": 33,
      "outputs": [
        {
          "output_type": "stream",
          "text": [
            "True query result: 0.5\n"
          ],
          "name": "stdout"
        }
      ]
    },
    {
      "cell_type": "code",
      "metadata": {
        "id": "xtvNaXco-fwD",
        "colab_type": "code",
        "outputId": "a3345c9a-8b64-46a9-d667-7cf65db950b1",
        "colab": {
          "base_uri": "https://localhost:8080/",
          "height": 34
        }
      },
      "source": [
        "result = noise_mechanism(db, mean_query)\n",
        "print(f'Augmented, or noisy, result: {result.item()}')"
      ],
      "execution_count": 34,
      "outputs": [
        {
          "output_type": "stream",
          "text": [
            "Augmented, or noisy, result: 0.499379426240921\n"
          ],
          "name": "stdout"
        }
      ]
    },
    {
      "cell_type": "code",
      "metadata": {
        "id": "L6w58GLq4iV7",
        "colab_type": "code",
        "outputId": "75649368-c3f8-4064-83cd-f0dcd5253e80",
        "colab": {
          "base_uri": "https://localhost:8080/",
          "height": 51
        }
      },
      "source": [
        "# TODO\n",
        "# decrease the value of epsilon to 0.01\n",
        "# What happesn to the amount of noise?\n",
        "# True Value\n",
        "print(f'True query result: {sum_query(db).item()}')\n",
        "# Noisy Value\n",
        "result = noise_mechanism(db, sum_query, epsilon=0.01)\n",
        "print(f'Augmented, or noisy, result: {result.item()}')"
      ],
      "execution_count": 35,
      "outputs": [
        {
          "output_type": "stream",
          "text": [
            "True query result: 50\n",
            "Augmented, or noisy, result: 142.79949951171875\n"
          ],
          "name": "stdout"
        }
      ]
    },
    {
      "cell_type": "code",
      "metadata": {
        "id": "1BQXhZQB5Ajo",
        "colab_type": "code",
        "outputId": "3fed8113-d6c5-43f3-a3d0-3cbee0df24fd",
        "colab": {
          "base_uri": "https://localhost:8080/",
          "height": 51
        }
      },
      "source": [
        "# TODO\n",
        "# decrease the value of epsilon to 0.0001\n",
        "# What happesn to the amount of noise?\n",
        "# True Value\n",
        "print(f'True query result: {sum_query(db).item()}')\n",
        "# Noisy Value\n",
        "result = noise_mechanism(db, sum_query, epsilon=0.0001)\n",
        "print(f'Augmented, or noisy, result: {result.item()}')"
      ],
      "execution_count": 36,
      "outputs": [
        {
          "output_type": "stream",
          "text": [
            "True query result: 50\n",
            "Augmented, or noisy, result: -1055.25927734375\n"
          ],
          "name": "stdout"
        }
      ]
    },
    {
      "cell_type": "markdown",
      "metadata": {
        "id": "W8HYVWUV-fwJ",
        "colab_type": "text"
      },
      "source": [
        "# Lesson: Differential Privacy for Deep Learning\n",
        "\n",
        "So in the last lessons you may have been wondering - what does all of this have to do with Deep Learning? Well, these same techniques we were just studying form the core primitives for how Differential Privacy provides guarantees in the context of Deep Learning. \n",
        "\n",
        "Previously, we defined perfect privacy as \"a query to a database returns the same value even if we remove any person from the database\", and used this intuition in the description of epsilon/delta. In the context of deep learning we have a similar standard.\n",
        "\n",
        "Training a model on a dataset should return the same model even if we remove any person from the dataset.\n",
        "\n",
        "Thus, we've replaced \"querying a database\" with \"training a model on a dataset\". In essence, the training process is a kind of query. However, one should note that this adds two points of complexity which database queries did not have:\n",
        "\n",
        "    1. do we always know where \"people\" are referenced in the dataset?\n",
        "    2. neural models rarely never train to the same output model, even on identical data\n",
        "\n",
        "The answer to (1) is to treat each training example as a single, separate person. Strictly speaking, this is often overly zealous as some training examples have no relevance to people and others may have multiple/partial (consider an image with multiple people contained within it). Thus, localizing exactly where \"people\" are referenced, and thus how much your model would change if people were removed, is challenging.\n",
        "\n",
        "The answer to (2) is also an open problem - but several interesitng proposals have been made. We're going to focus on one of the most popular proposals, PATE.\n",
        "\n",
        "## An Example Scenario: A Health Neural Network\n",
        "\n",
        "First we're going to consider a scenario - you work for a hospital and you have a large collection of images about your patients. However, you don't know what's in them. You would like to use these images to develop a neural network which can automatically classify them, however since your images aren't labeled, they aren't sufficient to train a classifier. \n",
        "\n",
        "However, being a cunning strategist, you realize that you can reach out to 10 partner hospitals which DO have annotated data. It is your hope to train your new classifier on their datasets so that you can automatically label your own. While these hospitals are interested in helping, they have privacy concerns regarding information about their patients. Thus, you will use the following technique to train a classifier which protects the privacy of patients in the other hospitals.\n",
        "\n",
        "- 1) You'll ask each of the 10 hospitals to train a model on their own datasets (All of which have the same kinds of labels)\n",
        "- 2) You'll then use each of the 10 partner models to predict on your local dataset, generating 10 labels for each of your datapoints\n",
        "- 3) Then, for each local data point (now with 10 labels), you will perform a DP query to generate the final true label. This query is a \"max\" function, where \"max\" is the most frequent label across the 10 labels. We will need to add laplacian noise to make this Differentially Private to a certain epsilon/delta constraint.\n",
        "- 4) Finally, we will retrain a new model on our local dataset which now has labels. This will be our final \"DP\" model.\n",
        "\n",
        "So, let's walk through these steps. I will assume you're already familiar with how to train/predict a deep neural network, so we'll skip steps 1 and 2 and work with example data. We'll focus instead on step 3, namely how to perform the DP query for each example using toy data.\n",
        "\n",
        "So, let's say we have 10,000 training examples, and we've got 10 labels for each example (from our 10 \"teacher models\" which were trained directly on private data). Each label is chosen from a set of 10 possible labels (categories) for each image."
      ]
    },
    {
      "cell_type": "code",
      "metadata": {
        "id": "DxAIORl2-fwK",
        "colab_type": "code",
        "colab": {}
      },
      "source": [
        "import numpy as np"
      ],
      "execution_count": 0,
      "outputs": []
    },
    {
      "cell_type": "code",
      "metadata": {
        "id": "KMwHpAum-fwL",
        "colab_type": "code",
        "colab": {}
      },
      "source": [
        "num_teachers = 10 # we're working with 10 partner hospitals\n",
        "num_examples = 10000 # the size of OUR dataset\n",
        "num_labels = 10 # number of lablels for our classifier"
      ],
      "execution_count": 0,
      "outputs": []
    },
    {
      "cell_type": "code",
      "metadata": {
        "id": "G7vGC4BTc33W",
        "colab_type": "code",
        "colab": {}
      },
      "source": [
        "preds = (np.random.rand(num_teachers, num_examples) * num_labels).astype(int).transpose(1,0) # fake predictions"
      ],
      "execution_count": 0,
      "outputs": []
    },
    {
      "cell_type": "code",
      "metadata": {
        "id": "hzb8TFlL-fwP",
        "colab_type": "code",
        "colab": {}
      },
      "source": [
        "# new_labels\n",
        "new_labels = list()\n",
        "for an_image in preds:\n",
        "\n",
        "    label_counts = np.bincount(an_image, minlength=num_labels)\n",
        "\n",
        "    eps = 0.01\n",
        "    b = 1 / eps\n",
        "\n",
        "    for i in range(len(label_counts)):\n",
        "        label_counts[i] += np.random.laplace(0, b, 1)\n",
        "\n",
        "    new_label = np.argmax(label_counts)\n",
        "    \n",
        "    new_labels.append(new_label)"
      ],
      "execution_count": 0,
      "outputs": []
    },
    {
      "cell_type": "markdown",
      "metadata": {
        "id": "RJCv5f7W-fwQ",
        "colab_type": "text"
      },
      "source": [
        "# PATE Analysis"
      ]
    },
    {
      "cell_type": "code",
      "metadata": {
        "id": "6Zi6e0p4-fwQ",
        "colab_type": "code",
        "outputId": "1de0cd5a-a233-46f6-9763-e774f47dd1ea",
        "colab": {
          "base_uri": "https://localhost:8080/",
          "height": 34
        }
      },
      "source": [
        "labels = np.array([9, 9, 3, 6, 9, 9, 9, 9, 8, 2])\n",
        "counts = np.bincount(labels, minlength=10)\n",
        "query_result = np.argmax(counts)\n",
        "query_result"
      ],
      "execution_count": 41,
      "outputs": [
        {
          "output_type": "execute_result",
          "data": {
            "text/plain": [
              "9"
            ]
          },
          "metadata": {
            "tags": []
          },
          "execution_count": 41
        }
      ]
    },
    {
      "cell_type": "markdown",
      "metadata": {
        "id": "w-becKmuhhc4",
        "colab_type": "text"
      },
      "source": [
        ""
      ]
    },
    {
      "cell_type": "code",
      "metadata": {
        "id": "61WckWoH2Zgl",
        "colab_type": "code",
        "colab": {
          "base_uri": "https://localhost:8080/",
          "height": 1000
        },
        "outputId": "cb1823a8-7a53-411e-8977-a19817d5f3f6"
      },
      "source": [
        "!pip install syft"
      ],
      "execution_count": 43,
      "outputs": [
        {
          "output_type": "stream",
          "text": [
            "Collecting syft\n",
            "\u001b[?25l  Downloading https://files.pythonhosted.org/packages/dc/78/fc404dd6236e876f679b9f2f66f6d648f07d9d4938d8126a870b0a44fc4e/syft-0.1.28a1-py3-none-any.whl (309kB)\n",
            "\r\u001b[K     |█                               | 10kB 19.5MB/s eta 0:00:01\r\u001b[K     |██▏                             | 20kB 3.1MB/s eta 0:00:01\r\u001b[K     |███▏                            | 30kB 4.5MB/s eta 0:00:01\r\u001b[K     |████▎                           | 40kB 3.0MB/s eta 0:00:01\r\u001b[K     |█████▎                          | 51kB 3.7MB/s eta 0:00:01\r\u001b[K     |██████▍                         | 61kB 4.4MB/s eta 0:00:01\r\u001b[K     |███████▍                        | 71kB 5.1MB/s eta 0:00:01\r\u001b[K     |████████▌                       | 81kB 5.7MB/s eta 0:00:01\r\u001b[K     |█████████▌                      | 92kB 6.3MB/s eta 0:00:01\r\u001b[K     |██████████▋                     | 102kB 4.9MB/s eta 0:00:01\r\u001b[K     |███████████▋                    | 112kB 4.9MB/s eta 0:00:01\r\u001b[K     |████████████▊                   | 122kB 4.9MB/s eta 0:00:01\r\u001b[K     |█████████████▊                  | 133kB 4.9MB/s eta 0:00:01\r\u001b[K     |██████████████▉                 | 143kB 4.9MB/s eta 0:00:01\r\u001b[K     |███████████████▉                | 153kB 4.9MB/s eta 0:00:01\r\u001b[K     |█████████████████               | 163kB 4.9MB/s eta 0:00:01\r\u001b[K     |██████████████████              | 174kB 4.9MB/s eta 0:00:01\r\u001b[K     |███████████████████             | 184kB 4.9MB/s eta 0:00:01\r\u001b[K     |████████████████████            | 194kB 4.9MB/s eta 0:00:01\r\u001b[K     |█████████████████████▏          | 204kB 4.9MB/s eta 0:00:01\r\u001b[K     |██████████████████████▎         | 215kB 4.9MB/s eta 0:00:01\r\u001b[K     |███████████████████████▎        | 225kB 4.9MB/s eta 0:00:01\r\u001b[K     |████████████████████████▍       | 235kB 4.9MB/s eta 0:00:01\r\u001b[K     |█████████████████████████▍      | 245kB 4.9MB/s eta 0:00:01\r\u001b[K     |██████████████████████████▌     | 256kB 4.9MB/s eta 0:00:01\r\u001b[K     |███████████████████████████▌    | 266kB 4.9MB/s eta 0:00:01\r\u001b[K     |████████████████████████████▋   | 276kB 4.9MB/s eta 0:00:01\r\u001b[K     |█████████████████████████████▋  | 286kB 4.9MB/s eta 0:00:01\r\u001b[K     |██████████████████████████████▊ | 296kB 4.9MB/s eta 0:00:01\r\u001b[K     |███████████████████████████████▊| 307kB 4.9MB/s eta 0:00:01\r\u001b[K     |████████████████████████████████| 317kB 4.9MB/s \n",
            "\u001b[?25hRequirement already satisfied: numpy>=1.14.0 in /usr/local/lib/python3.6/dist-packages (from syft) (1.16.5)\n",
            "Collecting websockets>=7.0 (from syft)\n",
            "\u001b[?25l  Downloading https://files.pythonhosted.org/packages/f0/4b/ad228451b1c071c5c52616b7d4298ebcfcac5ae8515ede959db19e4cd56d/websockets-8.0.2-cp36-cp36m-manylinux1_x86_64.whl (72kB)\n",
            "\u001b[K     |████████████████████████████████| 81kB 28.1MB/s \n",
            "\u001b[?25hRequirement already satisfied: Flask>=1.0.2 in /usr/local/lib/python3.6/dist-packages (from syft) (1.1.1)\n",
            "Collecting flask-socketio>=3.3.2 (from syft)\n",
            "  Downloading https://files.pythonhosted.org/packages/66/44/edc4715af85671b943c18ac8345d0207972284a0cd630126ff5251faa08b/Flask_SocketIO-4.2.1-py2.py3-none-any.whl\n",
            "Collecting websocket-client>=0.56.0 (from syft)\n",
            "\u001b[?25l  Downloading https://files.pythonhosted.org/packages/29/19/44753eab1fdb50770ac69605527e8859468f3c0fd7dc5a76dd9c4dbd7906/websocket_client-0.56.0-py2.py3-none-any.whl (200kB)\n",
            "\u001b[K     |████████████████████████████████| 204kB 51.1MB/s \n",
            "\u001b[?25hRequirement already satisfied: tblib>=1.4.0 in /usr/local/lib/python3.6/dist-packages (from syft) (1.4.0)\n",
            "Requirement already satisfied: scikit-learn>=0.21.0 in /usr/local/lib/python3.6/dist-packages (from syft) (0.21.3)\n",
            "Collecting zstd>=1.4.0.0 (from syft)\n",
            "\u001b[?25l  Downloading https://files.pythonhosted.org/packages/ce/73/585134600c7fe918566adddf94af42b35cb0dad4b96ee0180190fbcbb954/zstd-1.4.3.2.tar.gz (456kB)\n",
            "\u001b[K     |████████████████████████████████| 460kB 38.0MB/s \n",
            "\u001b[?25hCollecting lz4>=2.1.6 (from syft)\n",
            "\u001b[?25l  Downloading https://files.pythonhosted.org/packages/5d/5e/cedd32c203ce0303188b0c7ff8388bba3c33e4bf6da21ae789962c4fb2e7/lz4-2.2.1-cp36-cp36m-manylinux1_x86_64.whl (395kB)\n",
            "\u001b[K     |████████████████████████████████| 399kB 42.3MB/s \n",
            "\u001b[?25hCollecting msgpack>=0.6.1 (from syft)\n",
            "\u001b[?25l  Downloading https://files.pythonhosted.org/packages/3d/a8/e01fea81691749044a7bfd44536483a296d9c0a7ed4ec8810a229435547c/msgpack-0.6.2-cp36-cp36m-manylinux1_x86_64.whl (249kB)\n",
            "\u001b[K     |████████████████████████████████| 256kB 44.1MB/s \n",
            "\u001b[?25hCollecting tf-encrypted!=0.5.7,>=0.5.4 (from syft)\n",
            "\u001b[?25l  Downloading https://files.pythonhosted.org/packages/1f/82/cf15aeac92525da2f794956712e7ebf418819390dec783430ee242b52d0b/tf_encrypted-0.5.8-py3-none-manylinux1_x86_64.whl (2.1MB)\n",
            "\u001b[K     |████████████████████████████████| 2.1MB 34.2MB/s \n",
            "\u001b[?25hRequirement already satisfied: torchvision==0.3.0 in /usr/local/lib/python3.6/dist-packages (from syft) (0.3.0)\n",
            "Requirement already satisfied: torch==1.1 in /usr/local/lib/python3.6/dist-packages (from syft) (1.1.0)\n",
            "Requirement already satisfied: click>=5.1 in /usr/local/lib/python3.6/dist-packages (from Flask>=1.0.2->syft) (7.0)\n",
            "Requirement already satisfied: Jinja2>=2.10.1 in /usr/local/lib/python3.6/dist-packages (from Flask>=1.0.2->syft) (2.10.1)\n",
            "Requirement already satisfied: itsdangerous>=0.24 in /usr/local/lib/python3.6/dist-packages (from Flask>=1.0.2->syft) (1.1.0)\n",
            "Requirement already satisfied: Werkzeug>=0.15 in /usr/local/lib/python3.6/dist-packages (from Flask>=1.0.2->syft) (0.15.6)\n",
            "Collecting python-socketio>=4.3.0 (from flask-socketio>=3.3.2->syft)\n",
            "\u001b[?25l  Downloading https://files.pythonhosted.org/packages/35/b0/22c3f785f23fec5c7a815f47c55d7e7946a67ae2129ff604148e939d3bdb/python_socketio-4.3.1-py2.py3-none-any.whl (49kB)\n",
            "\u001b[K     |████████████████████████████████| 51kB 22.6MB/s \n",
            "\u001b[?25hRequirement already satisfied: six in /usr/local/lib/python3.6/dist-packages (from websocket-client>=0.56.0->syft) (1.12.0)\n",
            "Requirement already satisfied: scipy>=0.17.0 in /usr/local/lib/python3.6/dist-packages (from scikit-learn>=0.21.0->syft) (1.3.1)\n",
            "Requirement already satisfied: joblib>=0.11 in /usr/local/lib/python3.6/dist-packages (from scikit-learn>=0.21.0->syft) (0.13.2)\n",
            "Collecting pyyaml>=5.1 (from tf-encrypted!=0.5.7,>=0.5.4->syft)\n",
            "\u001b[?25l  Downloading https://files.pythonhosted.org/packages/e3/e8/b3212641ee2718d556df0f23f78de8303f068fe29cdaa7a91018849582fe/PyYAML-5.1.2.tar.gz (265kB)\n",
            "\u001b[K     |████████████████████████████████| 266kB 46.5MB/s \n",
            "\u001b[?25hRequirement already satisfied: tensorflow<2,>=1.12.0 in /usr/local/lib/python3.6/dist-packages (from tf-encrypted!=0.5.7,>=0.5.4->syft) (1.14.0)\n",
            "Requirement already satisfied: pillow>=4.1.1 in /usr/local/lib/python3.6/dist-packages (from torchvision==0.3.0->syft) (4.3.0)\n",
            "Requirement already satisfied: MarkupSafe>=0.23 in /usr/local/lib/python3.6/dist-packages (from Jinja2>=2.10.1->Flask>=1.0.2->syft) (1.1.1)\n",
            "Collecting python-engineio>=3.9.0 (from python-socketio>=4.3.0->flask-socketio>=3.3.2->syft)\n",
            "\u001b[?25l  Downloading https://files.pythonhosted.org/packages/2b/20/8e3ba16102ae2e245d70d9cb9fa48b076253fdb036dc43eea142294c2897/python_engineio-3.9.3-py2.py3-none-any.whl (119kB)\n",
            "\u001b[K     |████████████████████████████████| 122kB 43.4MB/s \n",
            "\u001b[?25hRequirement already satisfied: keras-preprocessing>=1.0.5 in /usr/local/lib/python3.6/dist-packages (from tensorflow<2,>=1.12.0->tf-encrypted!=0.5.7,>=0.5.4->syft) (1.1.0)\n",
            "Requirement already satisfied: google-pasta>=0.1.6 in /usr/local/lib/python3.6/dist-packages (from tensorflow<2,>=1.12.0->tf-encrypted!=0.5.7,>=0.5.4->syft) (0.1.7)\n",
            "Requirement already satisfied: wrapt>=1.11.1 in /usr/local/lib/python3.6/dist-packages (from tensorflow<2,>=1.12.0->tf-encrypted!=0.5.7,>=0.5.4->syft) (1.11.2)\n",
            "Requirement already satisfied: absl-py>=0.7.0 in /usr/local/lib/python3.6/dist-packages (from tensorflow<2,>=1.12.0->tf-encrypted!=0.5.7,>=0.5.4->syft) (0.8.0)\n",
            "Requirement already satisfied: grpcio>=1.8.6 in /usr/local/lib/python3.6/dist-packages (from tensorflow<2,>=1.12.0->tf-encrypted!=0.5.7,>=0.5.4->syft) (1.15.0)\n",
            "Requirement already satisfied: astor>=0.6.0 in /usr/local/lib/python3.6/dist-packages (from tensorflow<2,>=1.12.0->tf-encrypted!=0.5.7,>=0.5.4->syft) (0.8.0)\n",
            "Requirement already satisfied: gast>=0.2.0 in /usr/local/lib/python3.6/dist-packages (from tensorflow<2,>=1.12.0->tf-encrypted!=0.5.7,>=0.5.4->syft) (0.2.2)\n",
            "Requirement already satisfied: tensorboard<1.15.0,>=1.14.0 in /usr/local/lib/python3.6/dist-packages (from tensorflow<2,>=1.12.0->tf-encrypted!=0.5.7,>=0.5.4->syft) (1.14.0)\n",
            "Requirement already satisfied: termcolor>=1.1.0 in /usr/local/lib/python3.6/dist-packages (from tensorflow<2,>=1.12.0->tf-encrypted!=0.5.7,>=0.5.4->syft) (1.1.0)\n",
            "Requirement already satisfied: protobuf>=3.6.1 in /usr/local/lib/python3.6/dist-packages (from tensorflow<2,>=1.12.0->tf-encrypted!=0.5.7,>=0.5.4->syft) (3.7.1)\n",
            "Requirement already satisfied: tensorflow-estimator<1.15.0rc0,>=1.14.0rc0 in /usr/local/lib/python3.6/dist-packages (from tensorflow<2,>=1.12.0->tf-encrypted!=0.5.7,>=0.5.4->syft) (1.14.0)\n",
            "Requirement already satisfied: wheel>=0.26 in /usr/local/lib/python3.6/dist-packages (from tensorflow<2,>=1.12.0->tf-encrypted!=0.5.7,>=0.5.4->syft) (0.33.6)\n",
            "Requirement already satisfied: keras-applications>=1.0.6 in /usr/local/lib/python3.6/dist-packages (from tensorflow<2,>=1.12.0->tf-encrypted!=0.5.7,>=0.5.4->syft) (1.0.8)\n",
            "Requirement already satisfied: olefile in /usr/local/lib/python3.6/dist-packages (from pillow>=4.1.1->torchvision==0.3.0->syft) (0.46)\n",
            "Requirement already satisfied: markdown>=2.6.8 in /usr/local/lib/python3.6/dist-packages (from tensorboard<1.15.0,>=1.14.0->tensorflow<2,>=1.12.0->tf-encrypted!=0.5.7,>=0.5.4->syft) (3.1.1)\n",
            "Requirement already satisfied: setuptools>=41.0.0 in /usr/local/lib/python3.6/dist-packages (from tensorboard<1.15.0,>=1.14.0->tensorflow<2,>=1.12.0->tf-encrypted!=0.5.7,>=0.5.4->syft) (41.2.0)\n",
            "Requirement already satisfied: h5py in /usr/local/lib/python3.6/dist-packages (from keras-applications>=1.0.6->tensorflow<2,>=1.12.0->tf-encrypted!=0.5.7,>=0.5.4->syft) (2.8.0)\n",
            "Building wheels for collected packages: zstd, pyyaml\n",
            "  Building wheel for zstd (setup.py) ... \u001b[?25l\u001b[?25hdone\n",
            "  Created wheel for zstd: filename=zstd-1.4.3.2-cp36-cp36m-linux_x86_64.whl size=1076257 sha256=b757e84c43a1f6dc3d505750551279b4bded2f29199c48b41fa67b5ec726793a\n",
            "  Stored in directory: /root/.cache/pip/wheels/f2/df/a8/405bafcabba88a18c8763694e79177e2a1bbc65ac0f6b3d728\n",
            "  Building wheel for pyyaml (setup.py) ... \u001b[?25l\u001b[?25hdone\n",
            "  Created wheel for pyyaml: filename=PyYAML-5.1.2-cp36-cp36m-linux_x86_64.whl size=44104 sha256=c4973b914ac067c5c661e2411abf7607a3a6dc01f5a84cc56443534a54b80508\n",
            "  Stored in directory: /root/.cache/pip/wheels/d9/45/dd/65f0b38450c47cf7e5312883deb97d065e030c5cca0a365030\n",
            "Successfully built zstd pyyaml\n",
            "Installing collected packages: websockets, python-engineio, python-socketio, flask-socketio, websocket-client, zstd, lz4, msgpack, pyyaml, tf-encrypted, syft\n",
            "  Found existing installation: msgpack 0.5.6\n",
            "    Uninstalling msgpack-0.5.6:\n",
            "      Successfully uninstalled msgpack-0.5.6\n",
            "  Found existing installation: PyYAML 3.13\n",
            "    Uninstalling PyYAML-3.13:\n",
            "      Successfully uninstalled PyYAML-3.13\n",
            "Successfully installed flask-socketio-4.2.1 lz4-2.2.1 msgpack-0.6.2 python-engineio-3.9.3 python-socketio-4.3.1 pyyaml-5.1.2 syft-0.1.28a1 tf-encrypted-0.5.8 websocket-client-0.56.0 websockets-8.0.2 zstd-1.4.3.2\n"
          ],
          "name": "stdout"
        }
      ]
    },
    {
      "cell_type": "code",
      "metadata": {
        "id": "7x3CGmak-fwS",
        "colab_type": "code",
        "colab": {
          "base_uri": "https://localhost:8080/",
          "height": 122
        },
        "outputId": "a3e86151-7935-441e-b9c7-3e01cf94d517"
      },
      "source": [
        "from syft.frameworks.torch.differential_privacy import pate"
      ],
      "execution_count": 44,
      "outputs": [
        {
          "output_type": "stream",
          "text": [
            "WARNING:tf_encrypted:Falling back to insecure randomness since the required custom op could not be found for the installed version of TensorFlow. Fix this by compiling custom ops. Missing file was '/usr/local/lib/python3.6/dist-packages/tf_encrypted/operations/secure_random/secure_random_module_tf_1.14.0.so'\n"
          ],
          "name": "stderr"
        },
        {
          "output_type": "stream",
          "text": [
            "WARNING:tensorflow:From /usr/local/lib/python3.6/dist-packages/tf_encrypted/session.py:26: The name tf.Session is deprecated. Please use tf.compat.v1.Session instead.\n",
            "\n"
          ],
          "name": "stdout"
        },
        {
          "output_type": "stream",
          "text": [
            "WARNING:tensorflow:From /usr/local/lib/python3.6/dist-packages/tf_encrypted/session.py:26: The name tf.Session is deprecated. Please use tf.compat.v1.Session instead.\n",
            "\n"
          ],
          "name": "stderr"
        }
      ]
    },
    {
      "cell_type": "code",
      "metadata": {
        "id": "2EjWIEDA-fwU",
        "colab_type": "code",
        "outputId": "00cebcd6-7122-4d56-eab9-e95152d4835b",
        "colab": {
          "base_uri": "https://localhost:8080/",
          "height": 34
        }
      },
      "source": [
        "num_teachers, num_examples, num_labels = (100, 100, 10)\n",
        "preds = (np.random.rand(num_teachers, num_examples) * num_labels).astype(int) #fake preds\n",
        "indices = (np.random.rand(num_examples) * num_labels).astype(int) # true answers\n",
        "\n",
        "preds[:,0:10] *= 0\n",
        "\n",
        "data_dep_eps, data_ind_eps = pate.perform_analysis(teacher_preds=preds, indices=indices, noise_eps=0.1, delta=1e-5)\n",
        "\n",
        "assert data_dep_eps < data_ind_eps\n",
        "\n"
      ],
      "execution_count": 45,
      "outputs": [
        {
          "output_type": "stream",
          "text": [
            "Warning: May not have used enough values of l. Increase 'moments' variable and run again.\n"
          ],
          "name": "stdout"
        }
      ]
    },
    {
      "cell_type": "code",
      "metadata": {
        "id": "7N5ukWLL-fwX",
        "colab_type": "code",
        "outputId": "d157077f-c801-4cde-a3ec-e0c6e4173fd5",
        "colab": {
          "base_uri": "https://localhost:8080/",
          "height": 68
        }
      },
      "source": [
        "data_dep_eps, data_ind_eps = pate.perform_analysis(teacher_preds=preds, indices=indices, noise_eps=0.1, delta=1e-5)\n",
        "print(\"Data Independent Epsilon:\", data_ind_eps)\n",
        "print(\"Data Dependent Epsilon:\", data_dep_eps)"
      ],
      "execution_count": 46,
      "outputs": [
        {
          "output_type": "stream",
          "text": [
            "Warning: May not have used enough values of l. Increase 'moments' variable and run again.\n",
            "Data Independent Epsilon: 11.756462732485115\n",
            "Data Dependent Epsilon: 1.52655213289881\n"
          ],
          "name": "stdout"
        }
      ]
    },
    {
      "cell_type": "code",
      "metadata": {
        "id": "JFvtvDGl-fwZ",
        "colab_type": "code",
        "colab": {}
      },
      "source": [
        "preds[:,0:50] *= 0"
      ],
      "execution_count": 0,
      "outputs": []
    },
    {
      "cell_type": "code",
      "metadata": {
        "id": "aeTrk_dQ-fwa",
        "colab_type": "code",
        "outputId": "8db888b5-4941-4de2-8b76-c3212710ffdd",
        "colab": {
          "base_uri": "https://localhost:8080/",
          "height": 51
        }
      },
      "source": [
        "data_dep_eps, data_ind_eps = pate.perform_analysis(teacher_preds=preds, indices=indices, noise_eps=0.1, delta=1e-5, moments=20)\n",
        "print(\"Data Independent Epsilon:\", data_ind_eps)\n",
        "print(\"Data Dependent Epsilon:\", data_dep_eps)"
      ],
      "execution_count": 48,
      "outputs": [
        {
          "output_type": "stream",
          "text": [
            "Data Independent Epsilon: 11.756462732485115\n",
            "Data Dependent Epsilon: 0.9029013677789843\n"
          ],
          "name": "stdout"
        }
      ]
    },
    {
      "cell_type": "code",
      "metadata": {
        "id": "KQd-bMw3-fwc",
        "colab_type": "code",
        "colab": {}
      },
      "source": [
        ""
      ],
      "execution_count": 0,
      "outputs": []
    },
    {
      "cell_type": "markdown",
      "metadata": {
        "id": "Zu_8QgEQ-fwd",
        "colab_type": "text"
      },
      "source": [
        "# Where to Go From Here\n",
        "\n",
        "\n",
        "Read:\n",
        "    - Algorithmic Foundations of Differential Privacy: https://www.cis.upenn.edu/~aaroth/Papers/privacybook.pdf\n",
        "    - Deep Learning with Differential Privacy: https://arxiv.org/pdf/1607.00133.pdf\n",
        "    - The Ethical Algorithm: https://www.amazon.com/Ethical-Algorithm-Science-Socially-Design/dp/0190948205\n",
        "   \n",
        "Topics:\n",
        "    - The Exponential Mechanism\n",
        "    - The Moment's Accountant\n",
        "    - Differentially Private Stochastic Gradient Descent\n",
        "\n",
        "Advice:\n",
        "    - For deployments - stick with public frameworks!\n",
        "    - Join the Differential Privacy Community\n",
        "    - Don't get ahead of yourself - DP is still in the early days"
      ]
    },
    {
      "cell_type": "code",
      "metadata": {
        "id": "ECXjL_H1-fwd",
        "colab_type": "code",
        "colab": {}
      },
      "source": [
        ""
      ],
      "execution_count": 0,
      "outputs": []
    },
    {
      "cell_type": "code",
      "metadata": {
        "id": "FPlVy7m9-fwe",
        "colab_type": "code",
        "colab": {}
      },
      "source": [
        ""
      ],
      "execution_count": 0,
      "outputs": []
    },
    {
      "cell_type": "code",
      "metadata": {
        "id": "YWO4FEs0-fwf",
        "colab_type": "code",
        "colab": {}
      },
      "source": [
        ""
      ],
      "execution_count": 0,
      "outputs": []
    },
    {
      "cell_type": "code",
      "metadata": {
        "id": "EOLVkcOS-fwg",
        "colab_type": "code",
        "colab": {}
      },
      "source": [
        ""
      ],
      "execution_count": 0,
      "outputs": []
    },
    {
      "cell_type": "code",
      "metadata": {
        "id": "FeujZZGf-fwh",
        "colab_type": "code",
        "colab": {}
      },
      "source": [
        ""
      ],
      "execution_count": 0,
      "outputs": []
    },
    {
      "cell_type": "code",
      "metadata": {
        "id": "Xqa-WNIx-fwi",
        "colab_type": "code",
        "colab": {}
      },
      "source": [
        ""
      ],
      "execution_count": 0,
      "outputs": []
    },
    {
      "cell_type": "code",
      "metadata": {
        "id": "tzrW7D5l-fwj",
        "colab_type": "code",
        "colab": {}
      },
      "source": [
        ""
      ],
      "execution_count": 0,
      "outputs": []
    },
    {
      "cell_type": "code",
      "metadata": {
        "id": "8fSdgzJn-fwk",
        "colab_type": "code",
        "colab": {}
      },
      "source": [
        ""
      ],
      "execution_count": 0,
      "outputs": []
    },
    {
      "cell_type": "code",
      "metadata": {
        "id": "0q63B3Kh-fwk",
        "colab_type": "code",
        "colab": {}
      },
      "source": [
        ""
      ],
      "execution_count": 0,
      "outputs": []
    },
    {
      "cell_type": "code",
      "metadata": {
        "id": "wsgL8vjA-fwm",
        "colab_type": "code",
        "colab": {}
      },
      "source": [
        ""
      ],
      "execution_count": 0,
      "outputs": []
    },
    {
      "cell_type": "code",
      "metadata": {
        "id": "RQpgqPSA-fwn",
        "colab_type": "code",
        "colab": {}
      },
      "source": [
        ""
      ],
      "execution_count": 0,
      "outputs": []
    },
    {
      "cell_type": "code",
      "metadata": {
        "id": "VXX5XoyT-fwq",
        "colab_type": "code",
        "colab": {}
      },
      "source": [
        ""
      ],
      "execution_count": 0,
      "outputs": []
    },
    {
      "cell_type": "code",
      "metadata": {
        "id": "AapBM3BF-fwr",
        "colab_type": "code",
        "colab": {}
      },
      "source": [
        ""
      ],
      "execution_count": 0,
      "outputs": []
    },
    {
      "cell_type": "code",
      "metadata": {
        "id": "q39bLGVh-fwt",
        "colab_type": "code",
        "colab": {}
      },
      "source": [
        ""
      ],
      "execution_count": 0,
      "outputs": []
    },
    {
      "cell_type": "code",
      "metadata": {
        "id": "DTctpE7e-fwu",
        "colab_type": "code",
        "colab": {}
      },
      "source": [
        ""
      ],
      "execution_count": 0,
      "outputs": []
    },
    {
      "cell_type": "code",
      "metadata": {
        "id": "DB2PzVGt-fww",
        "colab_type": "code",
        "colab": {}
      },
      "source": [
        ""
      ],
      "execution_count": 0,
      "outputs": []
    },
    {
      "cell_type": "code",
      "metadata": {
        "id": "AkF2EwhC-fwx",
        "colab_type": "code",
        "colab": {}
      },
      "source": [
        ""
      ],
      "execution_count": 0,
      "outputs": []
    },
    {
      "cell_type": "markdown",
      "metadata": {
        "id": "YGLr_3XC-fwy",
        "colab_type": "text"
      },
      "source": [
        "# Section Project:\n",
        "\n",
        "For the final project for this section, you're going to be given a dataset which you need to use to train a DP model using this PATE method. "
      ]
    },
    {
      "cell_type": "code",
      "metadata": {
        "id": "Lc0sJkjK-fwy",
        "colab_type": "code",
        "colab": {}
      },
      "source": [
        ""
      ],
      "execution_count": 0,
      "outputs": []
    }
  ]
}