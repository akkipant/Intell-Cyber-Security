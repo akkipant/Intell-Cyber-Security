{
  "nbformat": 4,
  "nbformat_minor": 0,
  "metadata": {
    "colab": {
      "name": "Encrypted deep learning.ipynb",
      "provenance": []
    },
    "kernelspec": {
      "name": "python3",
      "display_name": "Python 3"
    },
    "accelerator": "GPU"
  },
  "cells": [
    {
      "cell_type": "markdown",
      "metadata": {
        "id": "nV1IvUw6msue",
        "colab_type": "text"
      },
      "source": [
        "Encrypted Deep Learning\n",
        "---\n",
        "Traing a Deep Learning Model\n",
        "---\n",
        "Let's build and train a toy deep learning model"
      ]
    },
    {
      "cell_type": "code",
      "metadata": {
        "id": "inSdObWem4jT",
        "colab_type": "code",
        "colab": {}
      },
      "source": [
        "import torch as th\n",
        "from torch import nn\n",
        "from torch import optim\n",
        "import torch.nn.functional as F\n"
      ],
      "execution_count": 0,
      "outputs": []
    },
    {
      "cell_type": "code",
      "metadata": {
        "id": "JvVtm7R8m-oj",
        "colab_type": "code",
        "colab": {}
      },
      "source": [
        "# A Toy Dataset\n",
        "data = th.tensor([[0,0],[0,1],[1,0],[1,1.]], requires_grad=True)\n",
        "target = th.tensor([[0],[0],[-1.6],[1.]], requires_grad=True)\n"
      ],
      "execution_count": 0,
      "outputs": []
    },
    {
      "cell_type": "code",
      "metadata": {
        "id": "5RPQZg4IPrOU",
        "colab_type": "code",
        "outputId": "330693f9-65be-4200-acf8-ca02108c771b",
        "colab": {
          "base_uri": "https://localhost:8080/",
          "height": 85
        }
      },
      "source": [
        "encrypted_target = target.fix_precision()\n",
        "encrypted_target"
      ],
      "execution_count": 0,
      "outputs": [
        {
          "output_type": "execute_result",
          "data": {
            "text/plain": [
              "(Wrapper)>FixedPrecisionTensor>tensor([[                  0],\n",
              "        [                  0],\n",
              "        [4611686018427386304],\n",
              "        [               1000]])"
            ]
          },
          "metadata": {
            "tags": []
          },
          "execution_count": 70
        }
      ]
    },
    {
      "cell_type": "code",
      "metadata": {
        "id": "MerQ22pjP1g1",
        "colab_type": "code",
        "outputId": "d3a541b0-b162-44b8-e0a1-ff2ed4397d82",
        "colab": {
          "base_uri": "https://localhost:8080/",
          "height": 85
        }
      },
      "source": [
        "encrypted_target.float_precision()"
      ],
      "execution_count": 0,
      "outputs": [
        {
          "output_type": "execute_result",
          "data": {
            "text/plain": [
              "tensor([[ 0.0000],\n",
              "        [ 0.0000],\n",
              "        [-1.6000],\n",
              "        [ 1.0000]])"
            ]
          },
          "metadata": {
            "tags": []
          },
          "execution_count": 71
        }
      ]
    },
    {
      "cell_type": "code",
      "metadata": {
        "id": "fxar9eIsmw6C",
        "colab_type": "code",
        "colab": {}
      },
      "source": [
        "# a toy model\n",
        "\n",
        "class Net(nn.Module):\n",
        "    def __init__(self):\n",
        "        super(Net, self).__init__()\n",
        "        self.fc1 = nn.Linear(2, 20)\n",
        "        self.fc2 = nn.Linear(20, 1)\n",
        "\n",
        "    def forward(self, x):\n",
        "        x = self.fc1(x)\n",
        "        x = F.relu(x)\n",
        "        x = self.fc2(x)\n",
        "        return x\n",
        "\n",
        "def train():\n",
        "    # Training Logic\n",
        "    opt = optim.SGD(params=model.parameters(), lr=0.1)\n",
        "    for iter in range(20):\n",
        "\n",
        "        # 1) erase previous gradients (if they exist)\n",
        "        opt.zero_grad()\n",
        "\n",
        "        # 2) make a prediction\n",
        "        pred = model(data)\n",
        "\n",
        "        # 3) calculate how much we missed\n",
        "        loss = ((pred - target)**2).mean()\n",
        "\n",
        "        # 4) figure out which weights caused us to miss\n",
        "        loss.backward()\n",
        "\n",
        "        # 5) change those weights\n",
        "        opt.step()\n",
        "\n",
        "        # 6) print our progress\n",
        "        print(loss.data)\n",
        "        "
      ],
      "execution_count": 0,
      "outputs": []
    },
    {
      "cell_type": "code",
      "metadata": {
        "id": "S1-2khc7nNHP",
        "colab_type": "code",
        "colab": {}
      },
      "source": [
        "model = Net()\n"
      ],
      "execution_count": 0,
      "outputs": []
    },
    {
      "cell_type": "code",
      "metadata": {
        "id": "NMQTatxKnTLU",
        "colab_type": "code",
        "outputId": "a97cf1d5-454e-4d93-f8a0-c4620d38e6ec",
        "colab": {
          "base_uri": "https://localhost:8080/",
          "height": 357
        }
      },
      "source": [
        "train()"
      ],
      "execution_count": 0,
      "outputs": [
        {
          "output_type": "stream",
          "text": [
            "tensor(0.0050)\n",
            "tensor(0.0040)\n",
            "tensor(0.0032)\n",
            "tensor(0.0026)\n",
            "tensor(0.0020)\n",
            "tensor(0.0016)\n",
            "tensor(0.0013)\n",
            "tensor(0.0010)\n",
            "tensor(0.0008)\n",
            "tensor(0.0006)\n",
            "tensor(0.0005)\n",
            "tensor(0.0004)\n",
            "tensor(0.0003)\n",
            "tensor(0.0002)\n",
            "tensor(0.0002)\n",
            "tensor(0.0002)\n",
            "tensor(0.0001)\n",
            "tensor(9.4853e-05)\n",
            "tensor(7.4958e-05)\n",
            "tensor(5.9525e-05)\n"
          ],
          "name": "stdout"
        }
      ]
    },
    {
      "cell_type": "code",
      "metadata": {
        "id": "pgy6muH4nges",
        "colab_type": "code",
        "outputId": "170ebc5d-95d0-4151-f98a-b3ba9221daab",
        "colab": {
          "base_uri": "https://localhost:8080/",
          "height": 85
        }
      },
      "source": [
        "predictions = model(data)\n",
        "predictions"
      ],
      "execution_count": 0,
      "outputs": [
        {
          "output_type": "execute_result",
          "data": {
            "text/plain": [
              "tensor([[0.0025],\n",
              "        [0.0085],\n",
              "        [0.9897],\n",
              "        [0.9980]], grad_fn=<AddmmBackward>)"
            ]
          },
          "metadata": {
            "tags": []
          },
          "execution_count": 31
        }
      ]
    },
    {
      "cell_type": "markdown",
      "metadata": {
        "id": "q94UzUpTnvK3",
        "colab_type": "text"
      },
      "source": [
        "Encrypted Deep Learning using PySyft\n",
        "---\n",
        "Now let's use the library PySyft, which we introduced in the first section of this course, to cary out encrypted learning :\n"
      ]
    },
    {
      "cell_type": "code",
      "metadata": {
        "id": "30bH8DvHoNIt",
        "colab_type": "code",
        "outputId": "52916b26-5bd5-4fe0-c409-89a461dd51ec",
        "colab": {
          "base_uri": "https://localhost:8080/",
          "height": 1000
        }
      },
      "source": [
        "!pip install syft"
      ],
      "execution_count": 0,
      "outputs": [
        {
          "output_type": "stream",
          "text": [
            "Collecting syft\n",
            "\u001b[?25l  Downloading https://files.pythonhosted.org/packages/ed/92/1d41de2cbb196dc315e083228ad41308107e7a298e7f547106daa756ee0c/syft-0.2.0a2-py3-none-any.whl (337kB)\n",
            "\u001b[K     |████████████████████████████████| 337kB 4.7MB/s \n",
            "\u001b[?25hRequirement already satisfied: Flask>=1.0.2 in /usr/local/lib/python3.6/dist-packages (from syft) (1.1.1)\n",
            "Collecting lz4>=2.1.6\n",
            "\u001b[?25l  Downloading https://files.pythonhosted.org/packages/5d/5e/cedd32c203ce0303188b0c7ff8388bba3c33e4bf6da21ae789962c4fb2e7/lz4-2.2.1-cp36-cp36m-manylinux1_x86_64.whl (395kB)\n",
            "\u001b[K     |████████████████████████████████| 399kB 55.6MB/s \n",
            "\u001b[?25hRequirement already satisfied: tblib>=1.4.0 in /usr/local/lib/python3.6/dist-packages (from syft) (1.5.0)\n",
            "Collecting torchvision==0.4.1\n",
            "\u001b[?25l  Downloading https://files.pythonhosted.org/packages/fc/23/d418c9102d4054d19d57ccf0aca18b7c1c1f34cc0a136760b493f78ddb06/torchvision-0.4.1-cp36-cp36m-manylinux1_x86_64.whl (10.1MB)\n",
            "\u001b[K     |████████████████████████████████| 10.1MB 21.3MB/s \n",
            "\u001b[?25hCollecting websocket-client>=0.56.0\n",
            "\u001b[?25l  Downloading https://files.pythonhosted.org/packages/29/19/44753eab1fdb50770ac69605527e8859468f3c0fd7dc5a76dd9c4dbd7906/websocket_client-0.56.0-py2.py3-none-any.whl (200kB)\n",
            "\u001b[K     |████████████████████████████████| 204kB 63.1MB/s \n",
            "\u001b[?25hCollecting zstd>=1.4.0.0\n",
            "\u001b[?25l  Downloading https://files.pythonhosted.org/packages/0b/46/c17843364277eef48437c1ad8d083600c82afab23b6bc8281eae247d0277/zstd-1.4.4.0.tar.gz (469kB)\n",
            "\u001b[K     |████████████████████████████████| 471kB 61.7MB/s \n",
            "\u001b[?25hCollecting torch==1.3\n",
            "\u001b[?25l  Downloading https://files.pythonhosted.org/packages/ae/05/50a05de5337f7a924bb8bd70c6936230642233e424d6a9747ef1cfbde353/torch-1.3.0-cp36-cp36m-manylinux1_x86_64.whl (773.1MB)\n",
            "\u001b[K     |████████████████████████████████| 773.1MB 21kB/s \n",
            "\u001b[?25hCollecting flask-socketio>=3.3.2\n",
            "  Downloading https://files.pythonhosted.org/packages/66/44/edc4715af85671b943c18ac8345d0207972284a0cd630126ff5251faa08b/Flask_SocketIO-4.2.1-py2.py3-none-any.whl\n",
            "Collecting websockets>=7.0\n",
            "\u001b[?25l  Downloading https://files.pythonhosted.org/packages/bb/d9/856af84843912e2853b1b6e898ac8b802989fcf9ecf8e8445a1da263bf3b/websockets-8.1-cp36-cp36m-manylinux2010_x86_64.whl (78kB)\n",
            "\u001b[K     |████████████████████████████████| 81kB 13.0MB/s \n",
            "\u001b[?25hCollecting msgpack>=0.6.1\n",
            "\u001b[?25l  Downloading https://files.pythonhosted.org/packages/3d/a8/e01fea81691749044a7bfd44536483a296d9c0a7ed4ec8810a229435547c/msgpack-0.6.2-cp36-cp36m-manylinux1_x86_64.whl (249kB)\n",
            "\u001b[K     |████████████████████████████████| 256kB 74.0MB/s \n",
            "\u001b[?25hRequirement already satisfied: numpy>=1.16.0 in /usr/local/lib/python3.6/dist-packages (from syft) (1.17.4)\n",
            "Requirement already satisfied: itsdangerous>=0.24 in /usr/local/lib/python3.6/dist-packages (from Flask>=1.0.2->syft) (1.1.0)\n",
            "Requirement already satisfied: Jinja2>=2.10.1 in /usr/local/lib/python3.6/dist-packages (from Flask>=1.0.2->syft) (2.10.3)\n",
            "Requirement already satisfied: Werkzeug>=0.15 in /usr/local/lib/python3.6/dist-packages (from Flask>=1.0.2->syft) (0.16.0)\n",
            "Requirement already satisfied: click>=5.1 in /usr/local/lib/python3.6/dist-packages (from Flask>=1.0.2->syft) (7.0)\n",
            "Requirement already satisfied: pillow>=4.1.1 in /usr/local/lib/python3.6/dist-packages (from torchvision==0.4.1->syft) (4.3.0)\n",
            "Requirement already satisfied: six in /usr/local/lib/python3.6/dist-packages (from torchvision==0.4.1->syft) (1.12.0)\n",
            "Collecting python-socketio>=4.3.0\n",
            "\u001b[?25l  Downloading https://files.pythonhosted.org/packages/35/b0/22c3f785f23fec5c7a815f47c55d7e7946a67ae2129ff604148e939d3bdb/python_socketio-4.3.1-py2.py3-none-any.whl (49kB)\n",
            "\u001b[K     |████████████████████████████████| 51kB 6.7MB/s \n",
            "\u001b[?25hRequirement already satisfied: MarkupSafe>=0.23 in /usr/local/lib/python3.6/dist-packages (from Jinja2>=2.10.1->Flask>=1.0.2->syft) (1.1.1)\n",
            "Requirement already satisfied: olefile in /usr/local/lib/python3.6/dist-packages (from pillow>=4.1.1->torchvision==0.4.1->syft) (0.46)\n",
            "Collecting python-engineio>=3.9.0\n",
            "\u001b[?25l  Downloading https://files.pythonhosted.org/packages/9b/fb/843f043988306d12f27ae62a82ce26edc7513580e5e089b4911326879f7e/python_engineio-3.10.0-py2.py3-none-any.whl (120kB)\n",
            "\u001b[K     |████████████████████████████████| 122kB 62.8MB/s \n",
            "\u001b[?25hBuilding wheels for collected packages: zstd\n",
            "  Building wheel for zstd (setup.py) ... \u001b[?25l\u001b[?25hdone\n",
            "  Created wheel for zstd: filename=zstd-1.4.4.0-cp36-cp36m-linux_x86_64.whl size=1131200 sha256=2bf977b1d96b4bbdb906ec92c5e1d70cfae21df20b1f626636c674587cf62014\n",
            "  Stored in directory: /root/.cache/pip/wheels/ce/0d/5a/3c2ccf5522d1cd3ecdeb2af8c9889179d7a204376b1d5c042d\n",
            "Successfully built zstd\n",
            "Installing collected packages: lz4, torch, torchvision, websocket-client, zstd, python-engineio, python-socketio, flask-socketio, websockets, msgpack, syft\n",
            "  Found existing installation: torch 1.3.1+cu100\n",
            "    Uninstalling torch-1.3.1+cu100:\n",
            "      Successfully uninstalled torch-1.3.1+cu100\n",
            "  Found existing installation: torchvision 0.4.2+cu100\n",
            "    Uninstalling torchvision-0.4.2+cu100:\n",
            "      Successfully uninstalled torchvision-0.4.2+cu100\n",
            "  Found existing installation: msgpack 0.5.6\n",
            "    Uninstalling msgpack-0.5.6:\n",
            "      Successfully uninstalled msgpack-0.5.6\n",
            "Successfully installed flask-socketio-4.2.1 lz4-2.2.1 msgpack-0.6.2 python-engineio-3.10.0 python-socketio-4.3.1 syft-0.2.0a2 torch-1.3.0 torchvision-0.4.1 websocket-client-0.56.0 websockets-8.1 zstd-1.4.4.0\n"
          ],
          "name": "stdout"
        },
        {
          "output_type": "display_data",
          "data": {
            "application/vnd.colab-display-data+json": {
              "pip_warning": {
                "packages": [
                  "torch"
                ]
              }
            }
          },
          "metadata": {
            "tags": []
          }
        }
      ]
    },
    {
      "cell_type": "code",
      "metadata": {
        "id": "3ufzXYodoS_F",
        "colab_type": "code",
        "outputId": "0e69ebb9-9c2b-4454-e790-ec5fe5523c8d",
        "colab": {
          "base_uri": "https://localhost:8080/",
          "height": 34
        }
      },
      "source": [
        "import syft as sy\n",
        "hook = sy.TorchHook(th)"
      ],
      "execution_count": 0,
      "outputs": [
        {
          "output_type": "stream",
          "text": [
            "WARNING:root:Torch was already hooked... skipping hooking process\n"
          ],
          "name": "stderr"
        }
      ]
    },
    {
      "cell_type": "code",
      "metadata": {
        "id": "jQ-OM9XSou72",
        "colab_type": "code",
        "outputId": "8970940e-c326-4bb2-9cbb-548b04953ab5",
        "colab": {
          "base_uri": "https://localhost:8080/",
          "height": 187
        }
      },
      "source": [
        "# create a couple of workers\n",
        "bob = sy.VirtualWorker(hook, id=\"bob\").add_worker(sy.local_worker)\n",
        "alice = sy.VirtualWorker(hook, id=\"alice\").add_worker(sy.local_worker)\n",
        "secure_worker = sy.VirtualWorker(hook, id=\"secure_worker\").add_worker(sy.local_worker)\n",
        "\n",
        "# this step is important in the real-world application.\n",
        "# You need to inform the workers of others existance\n",
        "# you will probably have an ssh or http worker, not a virtual worker.\n",
        "\n",
        "bob.add_workers([alice, secure_worker])\n",
        "alice.add_workers([bob, secure_worker])\n",
        "secure_worker.add_workers([alice, bob])"
      ],
      "execution_count": 0,
      "outputs": [
        {
          "output_type": "stream",
          "text": [
            "Worker me already exists. Replacing old worker which could cause                     unexpected behavior\n",
            "Worker me already exists. Replacing old worker which could cause                     unexpected behavior\n",
            "Worker me already exists. Replacing old worker which could cause                     unexpected behavior\n",
            "Worker alice already exists. Replacing old worker which could cause                     unexpected behavior\n",
            "Worker secure_worker already exists. Replacing old worker which could cause                     unexpected behavior\n",
            "Worker bob already exists. Replacing old worker which could cause                     unexpected behavior\n",
            "Worker secure_worker already exists. Replacing old worker which could cause                     unexpected behavior\n",
            "Worker alice already exists. Replacing old worker which could cause                     unexpected behavior\n",
            "Worker bob already exists. Replacing old worker which could cause                     unexpected behavior\n"
          ],
          "name": "stderr"
        },
        {
          "output_type": "execute_result",
          "data": {
            "text/plain": [
              "<VirtualWorker id:secure_worker #objects:0>"
            ]
          },
          "metadata": {
            "tags": []
          },
          "execution_count": 10
        }
      ]
    },
    {
      "cell_type": "code",
      "metadata": {
        "id": "uqzMoCBlnysD",
        "colab_type": "code",
        "colab": {}
      },
      "source": [
        "# encrypt the model and share it among participants\n",
        "encrypted_model = model.fix_precision().share(alice, bob, crypto_provider=secure_worker)"
      ],
      "execution_count": 0,
      "outputs": []
    },
    {
      "cell_type": "code",
      "metadata": {
        "id": "NNgkt8mxsXV6",
        "colab_type": "code",
        "colab": {}
      },
      "source": [
        "encrypted_data = data.fix_precision().share(alice, bob, crypto_provider=secure_worker)"
      ],
      "execution_count": 0,
      "outputs": []
    },
    {
      "cell_type": "code",
      "metadata": {
        "id": "Q9wZOaUisaq6",
        "colab_type": "code",
        "outputId": "ed341254-30ab-45da-882c-e2cd9f44479b",
        "colab": {
          "base_uri": "https://localhost:8080/",
          "height": 85
        }
      },
      "source": [
        "encrypted_prediction = encrypted_model(encrypted_data)\n",
        "encrypted_prediction"
      ],
      "execution_count": 0,
      "outputs": [
        {
          "output_type": "execute_result",
          "data": {
            "text/plain": [
              "(Wrapper)>FixedPrecisionTensor>[AdditiveSharingTensor]\n",
              "\t-> [PointerTensor | me:6738190149 -> alice:87518776543]\n",
              "\t-> [PointerTensor | me:35845282935 -> bob:63258858520]\n",
              "\t*crypto provider: secure_worker*"
            ]
          },
          "metadata": {
            "tags": []
          },
          "execution_count": 36
        }
      ]
    },
    {
      "cell_type": "code",
      "metadata": {
        "id": "yb0TfgXtsjV7",
        "colab_type": "code",
        "outputId": "e1ed3fb5-0e94-44c1-a0d5-fbe4e58fa1a2",
        "colab": {
          "base_uri": "https://localhost:8080/",
          "height": 85
        }
      },
      "source": [
        "results = encrypted_prediction.get()\n",
        "results"
      ],
      "execution_count": 0,
      "outputs": [
        {
          "output_type": "execute_result",
          "data": {
            "text/plain": [
              "(Wrapper)>FixedPrecisionTensor>tensor([[  3],\n",
              "        [ 10],\n",
              "        [987],\n",
              "        [997]])"
            ]
          },
          "metadata": {
            "tags": []
          },
          "execution_count": 37
        }
      ]
    },
    {
      "cell_type": "code",
      "metadata": {
        "id": "iIJ8w9LXMe9B",
        "colab_type": "code",
        "outputId": "dc537139-f6a3-4457-b5ab-b41318e2ae77",
        "colab": {
          "base_uri": "https://localhost:8080/",
          "height": 85
        }
      },
      "source": [
        "results = results.float_precision()\n",
        "results"
      ],
      "execution_count": 0,
      "outputs": [
        {
          "output_type": "execute_result",
          "data": {
            "text/plain": [
              "tensor([[0.0030],\n",
              "        [0.0100],\n",
              "        [0.9870],\n",
              "        [0.9970]])"
            ]
          },
          "metadata": {
            "tags": []
          },
          "execution_count": 38
        }
      ]
    },
    {
      "cell_type": "markdown",
      "metadata": {
        "id": "VmDomk_w0YL0",
        "colab_type": "text"
      },
      "source": [
        "Additive Secrete Sharing\n",
        "---\n"
      ]
    },
    {
      "cell_type": "markdown",
      "metadata": {
        "id": "NcM7tBAz0f_a",
        "colab_type": "text"
      },
      "source": [
        "Additive Secret Sharing is a protocol for Multi-Party Computation. It allows multiple parties (of size 3 or more) to aggregate their gradients without the use of a trusted 3rd party to perform the aggregation. In other words, we can add 3 numbers together from 3 different people without anyone ever learning the inputs of any other actors.\n",
        "\n",
        "Let's start by considering the number 5, which we'll put into a varible x.\n",
        "Let's say we wanted to SHARE the ownership of this number between two people, Alice and Bob. We could split this number into two shares, 2, and 3, and give one to Alice and one to Bob"
      ]
    },
    {
      "cell_type": "code",
      "metadata": {
        "id": "JioLQARG0bXO",
        "colab_type": "code",
        "outputId": "23155af4-48d5-4b3b-e123-48857f258a32",
        "colab": {
          "base_uri": "https://localhost:8080/",
          "height": 34
        }
      },
      "source": [
        "x = 5\n",
        "bob_x_share = 2\n",
        "alice_x_share = 3\n",
        "\n",
        "decrypted_x = bob_x_share + alice_x_share\n",
        "decrypted_x"
      ],
      "execution_count": 0,
      "outputs": [
        {
          "output_type": "execute_result",
          "data": {
            "text/plain": [
              "5"
            ]
          },
          "metadata": {
            "tags": []
          },
          "execution_count": 18
        }
      ]
    },
    {
      "cell_type": "markdown",
      "metadata": {
        "id": "2pmFPh6W0-DD",
        "colab_type": "text"
      },
      "source": [
        "Note that neither Bob nor Alice know the value of x. They only know the value of their own SHARE of x. Thus, the true value of X is hidden (i.e., encrypted).\n",
        "\n",
        "The truly amazing thing, however, is that Alice and Bob can still compute using this value! They can perform arithmetic over the hidden value! Let's say Bob and Alice wanted to multiply this value by 2! If each of them multiplied their respective share by 2, then the hidden number between them is also multiplied! Check it out!"
      ]
    },
    {
      "cell_type": "code",
      "metadata": {
        "id": "HJ9GGU-F0eq4",
        "colab_type": "code",
        "outputId": "b9e973d3-c8e2-4765-a5dd-aa975d6a28eb",
        "colab": {
          "base_uri": "https://localhost:8080/",
          "height": 34
        }
      },
      "source": [
        "bob_x_share *= 2 \n",
        "alice_x_share *= 2\n",
        "\n",
        "decrypted_x = bob_x_share + alice_x_share\n",
        "decrypted_x"
      ],
      "execution_count": 0,
      "outputs": [
        {
          "output_type": "execute_result",
          "data": {
            "text/plain": [
              "10"
            ]
          },
          "metadata": {
            "tags": []
          },
          "execution_count": 19
        }
      ]
    },
    {
      "cell_type": "markdown",
      "metadata": {
        "id": "cKIroI5L1QLi",
        "colab_type": "text"
      },
      "source": [
        "As you can see, we just added two numbers together while they were still encrypted!!!\n",
        "\n",
        "One small tweak - notice that since all our numbers are positive, it's possible for each share to reveal a little bit of information about the hidden value, namely, it's always greater than the share. Thus, if Bob has a share \"3\" then he knows that the encrypted value is at least 3.\n",
        "\n",
        "This would be quite bad, but can be solved through a simple fix. \n",
        "Decryption happens by summing all the shares together MODULUS some constant:"
      ]
    },
    {
      "cell_type": "code",
      "metadata": {
        "id": "7ofL5suQ1TIP",
        "colab_type": "code",
        "outputId": "4d65675d-a9b9-4c35-fc1e-d5c17d05c9aa",
        "colab": {
          "base_uri": "https://localhost:8080/",
          "height": 34
        }
      },
      "source": [
        "x = 5\n",
        "\n",
        "Q = 23740629843760239486723 # large prime number\n",
        "\n",
        "bob_x_share = 23552870267 # <- a random number\n",
        "\n",
        "\n",
        "alice_x_share = Q - bob_x_share + x\n",
        "alice_x_share"
      ],
      "execution_count": 0,
      "outputs": [
        {
          "output_type": "execute_result",
          "data": {
            "text/plain": [
              "23740629843736686616461"
            ]
          },
          "metadata": {
            "tags": []
          },
          "execution_count": 20
        }
      ]
    },
    {
      "cell_type": "code",
      "metadata": {
        "id": "2B0tNQyU1aP9",
        "colab_type": "code",
        "outputId": "cbf71cb1-d62d-4155-80a2-39e7e180c5c5",
        "colab": {
          "base_uri": "https://localhost:8080/",
          "height": 34
        }
      },
      "source": [
        "(bob_x_share + alice_x_share) % Q"
      ],
      "execution_count": 0,
      "outputs": [
        {
          "output_type": "execute_result",
          "data": {
            "text/plain": [
              "5"
            ]
          },
          "metadata": {
            "tags": []
          },
          "execution_count": 21
        }
      ]
    },
    {
      "cell_type": "markdown",
      "metadata": {
        "id": "VaUE0YgY3nVF",
        "colab_type": "text"
      },
      "source": [
        " Fixed Precision Encoding\n",
        " ---\n",
        " Additive secrete sharing works with integers. Thus, to apply this protocol on deep learning, we first need to convert the gradeints to integers. To do so, we used a predifned funciton fixed_precision. In the following, we illustrate its internat implemention in a very simple appraoch:"
      ]
    },
    {
      "cell_type": "code",
      "metadata": {
        "id": "qKDCeV_73lbI",
        "colab_type": "code",
        "colab": {}
      },
      "source": [
        "BASE=10\n",
        "PRECISION=4\n",
        "\n",
        "def encode(x):\n",
        "    return int((x * (BASE ** PRECISION)) % Q)\n",
        "\n",
        "def decode(x):\n",
        "    return (x if x <= Q/2 else x - Q)  / BASE**PRECISION\n",
        "    "
      ],
      "execution_count": 0,
      "outputs": []
    },
    {
      "cell_type": "code",
      "metadata": {
        "id": "0D7BALzY3-eO",
        "colab_type": "code",
        "outputId": "3f794382-3002-41ac-b6d8-e818015caaeb",
        "colab": {
          "base_uri": "https://localhost:8080/",
          "height": 34
        }
      },
      "source": [
        "encode(-10)"
      ],
      "execution_count": 0,
      "outputs": [
        {
          "output_type": "execute_result",
          "data": {
            "text/plain": [
              "23740629843760239386723"
            ]
          },
          "metadata": {
            "tags": []
          },
          "execution_count": 62
        }
      ]
    },
    {
      "cell_type": "code",
      "metadata": {
        "id": "Xpu1XoqB3_t6",
        "colab_type": "code",
        "outputId": "60fc4527-528c-4945-d15e-dffade41da3c",
        "colab": {
          "base_uri": "https://localhost:8080/",
          "height": 34
        }
      },
      "source": [
        "decode(23740629843760239386723)"
      ],
      "execution_count": 0,
      "outputs": [
        {
          "output_type": "execute_result",
          "data": {
            "text/plain": [
              "-10.0"
            ]
          },
          "metadata": {
            "tags": []
          },
          "execution_count": 63
        }
      ]
    },
    {
      "cell_type": "code",
      "metadata": {
        "id": "eau-G_eNPnkm",
        "colab_type": "code",
        "colab": {}
      },
      "source": [
        "a = a.torch"
      ],
      "execution_count": 0,
      "outputs": []
    },
    {
      "cell_type": "markdown",
      "metadata": {
        "id": "p5ZYQmvt6X9B",
        "colab_type": "text"
      },
      "source": [
        "---\n",
        "Apply Addivite Secrete Sharing using PySyft on a real dataset (MNIST or CIFAR10)\n",
        "---"
      ]
    }
  ]
}